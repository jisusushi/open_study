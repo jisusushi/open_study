{
 "cells": [
  {
   "cell_type": "markdown",
   "metadata": {},
   "source": [
    "## Table of Contents\n",
    "### 1. Collaborative Filtering Algortihm\n",
    "    0. Data Preprocessing\n",
    "    1. Compute User Similairty Matrix\n",
    "    2. Get Expected Rating with Similarity Matrix\n",
    "    3. Recommend Top N Items\n",
    "### 2. CF only with similar neighbors\n",
    "    0. Data Preprocessing\n",
    "    1. Compute User Similarity Matrix\n",
    "    2. Find who the 'similar neighbors' are\n",
    "    3. Get Expected Rating with Similarity Matrix\n",
    "    4. Recommend Top N Items\n",
    "    \n",
    "### 3. CF with user bias\n",
    "    1. 각 user의 평점 평균을 구함\n",
    "    2. 각 item의 평점을 평점 편차로 수정(해당 평가를 내린 user의 평균과 얼마나 다른 지)\n",
    "    3. 특정 user의 각 item에 대한 예상 평점 편차를 구함\n",
    "    4. 해당 user의 예상 평점 편차에 그 user의 평균 평점을 더함.\n",
    "\n",
    "\n",
    "### 4. IBCF\n",
    "\n",
    "### + 평가지표\n",
    "---\n",
    "\n",
    "---"
   ]
  },
  {
   "cell_type": "markdown",
   "metadata": {},
   "source": [
    "## Collaborative Filtering\n",
    ": **취향**이 비슷한 사람들을 찾아, 그 사람들의 평가를 바탕으로 추천을 진행하자!\n",
    "\n",
    "### Collaborative Filtering Algorithm\n",
    "1. user간 평가의 **유사도** 계산\n",
    "2. 유사도를 이용해 추천 대상이 되는 user가 평가하지 않은 모든 item에 대해 예상 평점을 구함(유사도의 가중 평균)\n",
    "3. 예상 평가값이 높은 N개 추천\n",
    "\n",
    "**User의 Similarity 계산** - ``sklearn.metrics.pairwise``\n",
    "* 평점이 continuous인지(1~5점도 continuous로 생각), binary인지에 따라 평가 지표가 달라짐\n",
    "* continuous: correlation, cosine similarity, euclidean 등\n",
    "* binary: Jaccard"
   ]
  },
  {
   "cell_type": "markdown",
   "metadata": {},
   "source": [
    "0. Data 준비"
   ]
  },
  {
   "cell_type": "code",
   "execution_count": 1,
   "metadata": {},
   "outputs": [],
   "source": [
    "import pandas as pd\n",
    "import numpy as np\n",
    "\n",
    "# 본 문서에서 계속 사용할 데이터를 가져오는 method\n",
    "def get_data():\n",
    "    u_cols = ['user_id', 'age', 'sex', 'occupation', 'zip_code']\n",
    "    users = pd.read_csv('/Users/jisujung/Desktop/dev/RecSys/python을 이용한 개인화 추천시스템/data/u.user', sep='|', names=u_cols, encoding='latin-1')\n",
    "    i_cols = ['movie_id', 'title', 'release date', 'video release date', 'IMDB URL', 'unknown', \n",
    "              'Action', 'Adventure', 'Animation', 'Children\\'s', 'Comedy', 'Crime', 'Documentary', \n",
    "              'Drama', 'Fantasy', 'Film-Noir', 'Horror', 'Musical', 'Mystery', 'Romance', 'Sci-Fi', \n",
    "              'Thriller', 'War', 'Western']\n",
    "    movies = pd.read_csv('/Users/jisujung/Desktop/dev/RecSys/python을 이용한 개인화 추천시스템/data/u.item', sep='|', names=i_cols, encoding='latin-1')\n",
    "    r_cols = ['user_id', 'movie_id', 'rating', 'timestamp']\n",
    "    ratings = pd.read_csv('/Users/jisujung/Desktop/dev/RecSys/python을 이용한 개인화 추천시스템/data/u.data', sep='\\t', names=r_cols, encoding='latin-1')\n",
    "    \n",
    "    return users, movies, ratings"
   ]
  },
  {
   "cell_type": "code",
   "execution_count": 10,
   "metadata": {},
   "outputs": [],
   "source": [
    "users, movies, ratings= get_data()"
   ]
  },
  {
   "cell_type": "code",
   "execution_count": 4,
   "metadata": {},
   "outputs": [
    {
     "data": {
      "text/html": [
       "<div>\n",
       "<style scoped>\n",
       "    .dataframe tbody tr th:only-of-type {\n",
       "        vertical-align: middle;\n",
       "    }\n",
       "\n",
       "    .dataframe tbody tr th {\n",
       "        vertical-align: top;\n",
       "    }\n",
       "\n",
       "    .dataframe thead th {\n",
       "        text-align: right;\n",
       "    }\n",
       "</style>\n",
       "<table border=\"1\" class=\"dataframe\">\n",
       "  <thead>\n",
       "    <tr style=\"text-align: right;\">\n",
       "      <th></th>\n",
       "      <th>user_id</th>\n",
       "      <th>age</th>\n",
       "      <th>sex</th>\n",
       "      <th>occupation</th>\n",
       "      <th>zip_code</th>\n",
       "    </tr>\n",
       "  </thead>\n",
       "  <tbody>\n",
       "    <tr>\n",
       "      <th>0</th>\n",
       "      <td>1</td>\n",
       "      <td>24</td>\n",
       "      <td>M</td>\n",
       "      <td>technician</td>\n",
       "      <td>85711</td>\n",
       "    </tr>\n",
       "    <tr>\n",
       "      <th>1</th>\n",
       "      <td>2</td>\n",
       "      <td>53</td>\n",
       "      <td>F</td>\n",
       "      <td>other</td>\n",
       "      <td>94043</td>\n",
       "    </tr>\n",
       "  </tbody>\n",
       "</table>\n",
       "</div>"
      ],
      "text/plain": [
       "   user_id  age sex  occupation zip_code\n",
       "0        1   24   M  technician    85711\n",
       "1        2   53   F       other    94043"
      ]
     },
     "execution_count": 4,
     "metadata": {},
     "output_type": "execute_result"
    }
   ],
   "source": [
    "users.head(2)"
   ]
  },
  {
   "cell_type": "code",
   "execution_count": 5,
   "metadata": {},
   "outputs": [
    {
     "data": {
      "text/html": [
       "<div>\n",
       "<style scoped>\n",
       "    .dataframe tbody tr th:only-of-type {\n",
       "        vertical-align: middle;\n",
       "    }\n",
       "\n",
       "    .dataframe tbody tr th {\n",
       "        vertical-align: top;\n",
       "    }\n",
       "\n",
       "    .dataframe thead th {\n",
       "        text-align: right;\n",
       "    }\n",
       "</style>\n",
       "<table border=\"1\" class=\"dataframe\">\n",
       "  <thead>\n",
       "    <tr style=\"text-align: right;\">\n",
       "      <th></th>\n",
       "      <th>movie_id</th>\n",
       "      <th>title</th>\n",
       "      <th>release date</th>\n",
       "      <th>video release date</th>\n",
       "      <th>IMDB URL</th>\n",
       "      <th>unknown</th>\n",
       "      <th>Action</th>\n",
       "      <th>Adventure</th>\n",
       "      <th>Animation</th>\n",
       "      <th>Children's</th>\n",
       "      <th>...</th>\n",
       "      <th>Fantasy</th>\n",
       "      <th>Film-Noir</th>\n",
       "      <th>Horror</th>\n",
       "      <th>Musical</th>\n",
       "      <th>Mystery</th>\n",
       "      <th>Romance</th>\n",
       "      <th>Sci-Fi</th>\n",
       "      <th>Thriller</th>\n",
       "      <th>War</th>\n",
       "      <th>Western</th>\n",
       "    </tr>\n",
       "  </thead>\n",
       "  <tbody>\n",
       "    <tr>\n",
       "      <th>0</th>\n",
       "      <td>1</td>\n",
       "      <td>Toy Story (1995)</td>\n",
       "      <td>01-Jan-1995</td>\n",
       "      <td>NaN</td>\n",
       "      <td>http://us.imdb.com/M/title-exact?Toy%20Story%2...</td>\n",
       "      <td>0</td>\n",
       "      <td>0</td>\n",
       "      <td>0</td>\n",
       "      <td>1</td>\n",
       "      <td>1</td>\n",
       "      <td>...</td>\n",
       "      <td>0</td>\n",
       "      <td>0</td>\n",
       "      <td>0</td>\n",
       "      <td>0</td>\n",
       "      <td>0</td>\n",
       "      <td>0</td>\n",
       "      <td>0</td>\n",
       "      <td>0</td>\n",
       "      <td>0</td>\n",
       "      <td>0</td>\n",
       "    </tr>\n",
       "    <tr>\n",
       "      <th>1</th>\n",
       "      <td>2</td>\n",
       "      <td>GoldenEye (1995)</td>\n",
       "      <td>01-Jan-1995</td>\n",
       "      <td>NaN</td>\n",
       "      <td>http://us.imdb.com/M/title-exact?GoldenEye%20(...</td>\n",
       "      <td>0</td>\n",
       "      <td>1</td>\n",
       "      <td>1</td>\n",
       "      <td>0</td>\n",
       "      <td>0</td>\n",
       "      <td>...</td>\n",
       "      <td>0</td>\n",
       "      <td>0</td>\n",
       "      <td>0</td>\n",
       "      <td>0</td>\n",
       "      <td>0</td>\n",
       "      <td>0</td>\n",
       "      <td>0</td>\n",
       "      <td>1</td>\n",
       "      <td>0</td>\n",
       "      <td>0</td>\n",
       "    </tr>\n",
       "  </tbody>\n",
       "</table>\n",
       "<p>2 rows × 24 columns</p>\n",
       "</div>"
      ],
      "text/plain": [
       "   movie_id             title release date  video release date  \\\n",
       "0         1  Toy Story (1995)  01-Jan-1995                 NaN   \n",
       "1         2  GoldenEye (1995)  01-Jan-1995                 NaN   \n",
       "\n",
       "                                            IMDB URL  unknown  Action  \\\n",
       "0  http://us.imdb.com/M/title-exact?Toy%20Story%2...        0       0   \n",
       "1  http://us.imdb.com/M/title-exact?GoldenEye%20(...        0       1   \n",
       "\n",
       "   Adventure  Animation  Children's  ...  Fantasy  Film-Noir  Horror  Musical  \\\n",
       "0          0          1           1  ...        0          0       0        0   \n",
       "1          1          0           0  ...        0          0       0        0   \n",
       "\n",
       "   Mystery  Romance  Sci-Fi  Thriller  War  Western  \n",
       "0        0        0       0         0    0        0  \n",
       "1        0        0       0         1    0        0  \n",
       "\n",
       "[2 rows x 24 columns]"
      ]
     },
     "execution_count": 5,
     "metadata": {},
     "output_type": "execute_result"
    }
   ],
   "source": [
    "movies.head(2)"
   ]
  },
  {
   "cell_type": "code",
   "execution_count": 7,
   "metadata": {},
   "outputs": [
    {
     "data": {
      "text/html": [
       "<div>\n",
       "<style scoped>\n",
       "    .dataframe tbody tr th:only-of-type {\n",
       "        vertical-align: middle;\n",
       "    }\n",
       "\n",
       "    .dataframe tbody tr th {\n",
       "        vertical-align: top;\n",
       "    }\n",
       "\n",
       "    .dataframe thead th {\n",
       "        text-align: right;\n",
       "    }\n",
       "</style>\n",
       "<table border=\"1\" class=\"dataframe\">\n",
       "  <thead>\n",
       "    <tr style=\"text-align: right;\">\n",
       "      <th></th>\n",
       "      <th>user_id</th>\n",
       "      <th>movie_id</th>\n",
       "      <th>rating</th>\n",
       "      <th>timestamp</th>\n",
       "    </tr>\n",
       "  </thead>\n",
       "  <tbody>\n",
       "    <tr>\n",
       "      <th>0</th>\n",
       "      <td>196</td>\n",
       "      <td>242</td>\n",
       "      <td>3</td>\n",
       "      <td>881250949</td>\n",
       "    </tr>\n",
       "    <tr>\n",
       "      <th>1</th>\n",
       "      <td>186</td>\n",
       "      <td>302</td>\n",
       "      <td>3</td>\n",
       "      <td>891717742</td>\n",
       "    </tr>\n",
       "  </tbody>\n",
       "</table>\n",
       "</div>"
      ],
      "text/plain": [
       "   user_id  movie_id  rating  timestamp\n",
       "0      196       242       3  881250949\n",
       "1      186       302       3  891717742"
      ]
     },
     "execution_count": 7,
     "metadata": {},
     "output_type": "execute_result"
    }
   ],
   "source": [
    "ratings.head(2)"
   ]
  },
  {
   "cell_type": "code",
   "execution_count": 11,
   "metadata": {},
   "outputs": [],
   "source": [
    "# 전처리\n",
    "ratings= ratings.drop('timestamp', axis=1)\n",
    "movies= movies[['movie_id', 'title']]"
   ]
  },
  {
   "cell_type": "code",
   "execution_count": 12,
   "metadata": {},
   "outputs": [],
   "source": [
    "# train_test_split\n",
    "# user_id를 train/test set에 고르게 담기 위해 stratify\n",
    "from sklearn.model_selection import train_test_split\n",
    "x= ratings.copy()\n",
    "y= ratings['user_id']\n",
    "x_train, x_test, y_train, y_test= train_test_split(x, y, test_size= 0.25, stratify= y)"
   ]
  },
  {
   "cell_type": "code",
   "execution_count": 13,
   "metadata": {},
   "outputs": [],
   "source": [
    "# 평가 지표 및 평가 method 정의\n",
    "def RMSE(y_pred, y_true):\n",
    "    return np.sqrt(np.mean((np.array(y_pred) - np.array(y_true))**2))\n",
    "\n",
    "def score(model):\n",
    "    id_pairs= zip(x_test['user_id'], x_test['movie_id'])\n",
    "    y_pred= np.array([model(user, movie) for (user, movie) in id_pairs])\n",
    "    y_true= np.array(x_test['rating'])\n",
    "    return RMSE(y_pred, y_true)"
   ]
  },
  {
   "cell_type": "markdown",
   "metadata": {},
   "source": [
    "1. **similarity 계산**\n",
    "\n",
    "similarity 계산을 위해서는 Nan값을 fillna(0)로 **채워야 한다**.\n",
    "    -> 이렇게 되면 같은 것을 안 본 사람들에 대한 유사도가 약간 높아지기는 하겠다..?"
   ]
  },
  {
   "cell_type": "code",
   "execution_count": 15,
   "metadata": {},
   "outputs": [],
   "source": [
    "rating_matrix= x_train.pivot(index= 'user_id', columns= 'movie_id', values= 'rating')"
   ]
  },
  {
   "cell_type": "code",
   "execution_count": 17,
   "metadata": {},
   "outputs": [
    {
     "data": {
      "text/html": [
       "<div>\n",
       "<style scoped>\n",
       "    .dataframe tbody tr th:only-of-type {\n",
       "        vertical-align: middle;\n",
       "    }\n",
       "\n",
       "    .dataframe tbody tr th {\n",
       "        vertical-align: top;\n",
       "    }\n",
       "\n",
       "    .dataframe thead th {\n",
       "        text-align: right;\n",
       "    }\n",
       "</style>\n",
       "<table border=\"1\" class=\"dataframe\">\n",
       "  <thead>\n",
       "    <tr style=\"text-align: right;\">\n",
       "      <th>movie_id</th>\n",
       "      <th>1</th>\n",
       "      <th>2</th>\n",
       "      <th>3</th>\n",
       "      <th>4</th>\n",
       "      <th>5</th>\n",
       "      <th>6</th>\n",
       "      <th>7</th>\n",
       "      <th>8</th>\n",
       "      <th>9</th>\n",
       "      <th>10</th>\n",
       "      <th>...</th>\n",
       "      <th>1672</th>\n",
       "      <th>1673</th>\n",
       "      <th>1674</th>\n",
       "      <th>1675</th>\n",
       "      <th>1676</th>\n",
       "      <th>1677</th>\n",
       "      <th>1678</th>\n",
       "      <th>1679</th>\n",
       "      <th>1680</th>\n",
       "      <th>1682</th>\n",
       "    </tr>\n",
       "    <tr>\n",
       "      <th>user_id</th>\n",
       "      <th></th>\n",
       "      <th></th>\n",
       "      <th></th>\n",
       "      <th></th>\n",
       "      <th></th>\n",
       "      <th></th>\n",
       "      <th></th>\n",
       "      <th></th>\n",
       "      <th></th>\n",
       "      <th></th>\n",
       "      <th></th>\n",
       "      <th></th>\n",
       "      <th></th>\n",
       "      <th></th>\n",
       "      <th></th>\n",
       "      <th></th>\n",
       "      <th></th>\n",
       "      <th></th>\n",
       "      <th></th>\n",
       "      <th></th>\n",
       "      <th></th>\n",
       "    </tr>\n",
       "  </thead>\n",
       "  <tbody>\n",
       "    <tr>\n",
       "      <th>1</th>\n",
       "      <td>5.0</td>\n",
       "      <td>NaN</td>\n",
       "      <td>4.0</td>\n",
       "      <td>3.0</td>\n",
       "      <td>3.0</td>\n",
       "      <td>5.0</td>\n",
       "      <td>4.0</td>\n",
       "      <td>1.0</td>\n",
       "      <td>5.0</td>\n",
       "      <td>3.0</td>\n",
       "      <td>...</td>\n",
       "      <td>NaN</td>\n",
       "      <td>NaN</td>\n",
       "      <td>NaN</td>\n",
       "      <td>NaN</td>\n",
       "      <td>NaN</td>\n",
       "      <td>NaN</td>\n",
       "      <td>NaN</td>\n",
       "      <td>NaN</td>\n",
       "      <td>NaN</td>\n",
       "      <td>NaN</td>\n",
       "    </tr>\n",
       "    <tr>\n",
       "      <th>2</th>\n",
       "      <td>4.0</td>\n",
       "      <td>NaN</td>\n",
       "      <td>NaN</td>\n",
       "      <td>NaN</td>\n",
       "      <td>NaN</td>\n",
       "      <td>NaN</td>\n",
       "      <td>NaN</td>\n",
       "      <td>NaN</td>\n",
       "      <td>NaN</td>\n",
       "      <td>2.0</td>\n",
       "      <td>...</td>\n",
       "      <td>NaN</td>\n",
       "      <td>NaN</td>\n",
       "      <td>NaN</td>\n",
       "      <td>NaN</td>\n",
       "      <td>NaN</td>\n",
       "      <td>NaN</td>\n",
       "      <td>NaN</td>\n",
       "      <td>NaN</td>\n",
       "      <td>NaN</td>\n",
       "      <td>NaN</td>\n",
       "    </tr>\n",
       "  </tbody>\n",
       "</table>\n",
       "<p>2 rows × 1651 columns</p>\n",
       "</div>"
      ],
      "text/plain": [
       "movie_id  1     2     3     4     5     6     7     8     9     10    ...  \\\n",
       "user_id                                                               ...   \n",
       "1          5.0   NaN   4.0   3.0   3.0   5.0   4.0   1.0   5.0   3.0  ...   \n",
       "2          4.0   NaN   NaN   NaN   NaN   NaN   NaN   NaN   NaN   2.0  ...   \n",
       "\n",
       "movie_id  1672  1673  1674  1675  1676  1677  1678  1679  1680  1682  \n",
       "user_id                                                               \n",
       "1          NaN   NaN   NaN   NaN   NaN   NaN   NaN   NaN   NaN   NaN  \n",
       "2          NaN   NaN   NaN   NaN   NaN   NaN   NaN   NaN   NaN   NaN  \n",
       "\n",
       "[2 rows x 1651 columns]"
      ]
     },
     "execution_count": 17,
     "metadata": {},
     "output_type": "execute_result"
    }
   ],
   "source": [
    "rating_matrix.head(2)"
   ]
  },
  {
   "cell_type": "code",
   "execution_count": 16,
   "metadata": {},
   "outputs": [],
   "source": [
    "from sklearn.metrics.pairwise import cosine_similarity\n",
    "matrix_dummy= rating_matrix.copy().fillna(0)\n",
    "user_similarity= cosine_similarity(matrix_dummy)\n",
    "user_similarity= pd.DataFrame(user_similarity, index= rating_matrix.index, columns= rating_matrix.index)"
   ]
  },
  {
   "cell_type": "markdown",
   "metadata": {},
   "source": [
    "2. **similairity를 이용하여 가중평균 rating 계산**\n",
    "\n",
    "\n",
    "- 모든 추천시스템에서 그렇듯이, 평가하고자 하는 item이 기존의 item matrix에 있는 지 확인해보아야 함(아무도 구매/평가하지 않았던 item은 추천이 힘듬). 없다면 1)아에 추천 목록에서 제외하거나, 2)중간 점수 등으로 대체하거나. 여기서는 2)의 방법을 택함\n",
    "- 가중평균을 계산하기 위해, 어떤 user가 해당 item을 평가하고 어떤 user는 평가하지 않았는 지를 구분할 필요가 있음. 평가하지 않은 user의 경우 가중평균 계산에서 제외 해야함.\n",
    "- '평가하지 않음' 자체를 어떤 aciton으로 추정 할 수도 있을듯. 예를 들어, 나와 유사도가 높은 사람들이 특정 영화를 보지 않았다면... 별로 땡기지 않는 것 아닐까? - similarity가 k 이상인 user들 중 unrated의 비중이 n% 이상인 item은 추천에서 제외한다. 등의 rule을 만들 수도 있을 듯"
   ]
  },
  {
   "cell_type": "code",
   "execution_count": 18,
   "metadata": {},
   "outputs": [],
   "source": [
    "def movie_cf(user_id, movie_id):\n",
    "    if movie_id in rating_matrix:\n",
    "        similarity= user_similarity[user_id].copy()\n",
    "        movie_ratings= rating_matrix[movie_id].copy()\n",
    "        \n",
    "        none_rated_user= movie_ratings[movie_ratings.isnull()].index\n",
    "        \n",
    "        movie_ratings= movie_ratings.dropna()\n",
    "        similarity= similarity.drop(none_rated_user)\n",
    "        \n",
    "        mean_rating= np.dot(movie_ratings, similarity) / np.sum(similarity)\n",
    "        \n",
    "    else:\n",
    "        mean_rating= 3.0\n",
    "        \n",
    "    return mean_rating"
   ]
  },
  {
   "cell_type": "code",
   "execution_count": 19,
   "metadata": {},
   "outputs": [
    {
     "data": {
      "text/plain": [
       "1.014572385439244"
      ]
     },
     "execution_count": 19,
     "metadata": {},
     "output_type": "execute_result"
    }
   ],
   "source": [
    "score(movie_cf)"
   ]
  },
  {
   "cell_type": "markdown",
   "metadata": {},
   "source": [
    "---\n",
    "## CF with similar neighbors\n",
    "추천 대상인 user와 성향이 비슷한 user만 고려하면 어떨까?\n",
    "\n",
    "**비슷한 user의 정의**\n",
    "1. KNN\n",
    "2. Thresholding: 일정 값 이상의 similarity를 가진 user들만 neighbor로 인정\n",
    "\n",
    "보통은 thresholding이 KNN보다 정확하지만, 특정 similarity를 넘는 user가 없어 추천을 할 수 없는 경우가 잦으므로 KNN도 많이 사용된다.\n",
    "\n",
    "### KNN을 이용한 CF Algorithm\n",
    "1. 특정 item의 평가 데이터를 가져온다.\n",
    "2. neighbor의 size에 따라,\n",
    "    * neighbor_size == 0\n",
    "        * similarity를 기준으로 User 평가 데이터의 가중 평균을 구한다(basic CF)\n",
    "    * neighbor_size > 0\n",
    "        * 해당 item을 평가한 user가 2명 이상인 경우\n",
    "            1. neighbor size를 확인한다.\n",
    "            2. 유사도를 순서대로 정렬하여,neighbor size만큼 similar한 user의 평점을 가져온다.\n",
    "            3. neighbor의 평가 데이터의 가중 평균을 구한다\n",
    "        * 해당 item을 평가한 user가 1명 이하인 경우\n",
    "            1. 평점 - 중간 점수"
   ]
  },
  {
   "cell_type": "markdown",
   "metadata": {},
   "source": [
    "전처리 과정과 유사도 matrix를 구하는 과정은 기본 알고리즘과 같음"
   ]
  },
  {
   "cell_type": "code",
   "execution_count": 21,
   "metadata": {},
   "outputs": [],
   "source": [
    "users, movies, ratings= get_data()\n",
    "ratings= ratings.drop('timestamp', axis=1)\n",
    "movies= movies[['movie_id', 'title']]\n",
    "\n",
    "from sklearn.model_selection import train_test_split\n",
    "x= ratings.copy()\n",
    "y= ratings['user_id']\n",
    "x_train, x_test, y_train, y_test= train_test_split(x, y, test_size= 0.25, stratify= y)\n",
    "\n",
    "def RMSE(y_true, y_pred):\n",
    "    return np.sqrt(np.mean((np.array(y_true) - np.array(y_pred)) ** 2))\n",
    "\n",
    "rating_matrix= x_train.pivot(columns= 'movie_id', index= 'user_id', values= 'rating')\n",
    "\n",
    "# neigbor_size=0 denotes normal CF(using every users data)\n",
    "def score(model, neighbor_size=0):\n",
    "    id_pairs= zip(x_test['user_id'], x_test['movie_id'])\n",
    "    y_pred= np.array([model(user, movie, neighbor_size) for (user, movie) in id_pairs])\n",
    "    y_true= np.array(x_test['rating'])\n",
    "    return RMSE(y_true, y_pred)\n",
    "\n",
    "rating_matrix = x_train.pivot(index='user_id', columns='movie_id', values='rating')\n",
    "\n",
    "from sklearn.metrics.pairwise import cosine_similarity\n",
    "matrix_dummy = rating_matrix.copy().fillna(0)\n",
    "user_similarity = cosine_similarity(matrix_dummy, matrix_dummy)\n",
    "user_similarity = pd.DataFrame(user_similarity, index=rating_matrix.index, columns=rating_matrix.index)"
   ]
  },
  {
   "cell_type": "markdown",
   "metadata": {},
   "source": [
    "**Main Algorithm**"
   ]
  },
  {
   "cell_type": "code",
   "execution_count": 23,
   "metadata": {},
   "outputs": [],
   "source": [
    "def cf_knn(user_id, movie_id, neighbor_size= 0):\n",
    "    if movie_id in rating_matrix:\n",
    "        sim_scores= user_similarity[user_id].copy()\n",
    "        movie_ratings= rating_matrix[movie_id].copy()\n",
    "        \n",
    "        none_rating_idx= movie_ratings[movie_ratings.isnull()].index\n",
    "        \n",
    "        sim_scores= sim_scores.drop(none_rating_idx)\n",
    "        movie_ratings= movie_ratings.drop(none_rating_idx)\n",
    "        \n",
    "        if neighbor_size== 0:\n",
    "            mean_rating= np.dot(sim_scores, movie_ratings) / np.sum(sim_scores)\n",
    "            \n",
    "        else:\n",
    "            if len(sim_scores) > 1:\n",
    "                neighbor_size= min(neighbor_size, len(sim_scores))\n",
    "                \n",
    "                sim_scores= np.array(sim_scores)\n",
    "                movie_ratings= np.array(movie_ratings)\n",
    "                \n",
    "                user_idx= np.argsort(sim_scores)\n",
    "                movie_ratings= movie_ratings[user_idx][-neighbor_size:]\n",
    "                sim_scores= sim_scores[user_idx][-neighbor_size:]\n",
    "                \n",
    "                mean_rating= np.dot(sim_scores, movie_ratings) / np.sum(sim_scores)\n",
    "            \n",
    "            else:\n",
    "                mean_rating= 3.0\n",
    "    else:\n",
    "        mean_rating= 3.0\n",
    "        \n",
    "    return mean_rating"
   ]
  },
  {
   "cell_type": "code",
   "execution_count": 24,
   "metadata": {},
   "outputs": [
    {
     "data": {
      "text/plain": [
       "1.0117610371448242"
      ]
     },
     "execution_count": 24,
     "metadata": {},
     "output_type": "execute_result"
    }
   ],
   "source": [
    "score(cf_knn, neighbor_size= 30)"
   ]
  },
  {
   "cell_type": "markdown",
   "metadata": {},
   "source": [
    "### Actual Recommending\n",
    "* Input: 추천을 받을 user ID, 추천 받을 item 수(n), 이웃 크기\n",
    "* Output: n개의 추천 item list"
   ]
  },
  {
   "cell_type": "code",
   "execution_count": 27,
   "metadata": {},
   "outputs": [],
   "source": [
    "def recom_movie(user_id, n_items= 5, neighbor_size= 30):\n",
    "    user_movie= rating_matrix.loc[user_id].copy()\n",
    "    for movie in rating_matrix:\n",
    "        if pd.notnull(user_movie.loc[movie]):\n",
    "            user_movie.loc[movie]= 0\n",
    "        else:\n",
    "            user_movie.loc[movie]= cf_knn(user_id, movie, neighbor_size)\n",
    "    \n",
    "    movie_sort= user_movie.sort_values(ascending=False)[:n_items]\n",
    "    recom_movies= movies.loc[movie_sort.index]\n",
    "    \n",
    "    recommendations= recom_movies['title']\n",
    "    \n",
    "    return recommendations"
   ]
  },
  {
   "cell_type": "code",
   "execution_count": 28,
   "metadata": {},
   "outputs": [
    {
     "data": {
      "text/plain": [
       "movie_id\n",
       "1189                              That Old Feeling (1997)\n",
       "1467                                     Cure, The (1995)\n",
       "119                                     Striptease (1996)\n",
       "1500    Prisoner of the Mountains (Kavkazsky Plennik) ...\n",
       "1293                     Ayn Rand: A Sense of Life (1997)\n",
       "Name: title, dtype: object"
      ]
     },
     "execution_count": 28,
     "metadata": {},
     "output_type": "execute_result"
    }
   ],
   "source": [
    "recom_movie(2)"
   ]
  },
  {
   "cell_type": "markdown",
   "metadata": {},
   "source": [
    "---\n",
    "## CF with user bias\n",
    "특정 user는 점수를 잘 주는 경향이 있고, 다른 user는 그렇지 않다.\n",
    "\n",
    "즉, 같은 3점이 누군가에게는 칭찬이고, 누군가에게는 비난이다.\n",
    "\n",
    "따라서 절대적인 점수보다 **평점 편차**(각 user의 평점 평균과의 차이)를 이용해야 한다."
   ]
  },
  {
   "cell_type": "markdown",
   "metadata": {},
   "source": [
    "전처리 과정과 유사도 matrix를 구하는 과정은 기본 알고리즘과 같음"
   ]
  },
  {
   "cell_type": "code",
   "execution_count": 32,
   "metadata": {},
   "outputs": [],
   "source": [
    "users, movies, ratings= get_data()\n",
    "\n",
    "ratings = ratings.drop('timestamp', axis=1)\n",
    "movies = movies[['movie_id', 'title']]\n",
    "\n",
    "from sklearn.model_selection import train_test_split\n",
    "x= ratings.copy()\n",
    "y= ratings['user_id']\n",
    "x_train, x_test, y_train, y_test= train_test_split(x, y, test_size= 0.25, stratify= y)\n",
    "\n",
    "def RMSE(y_true, y_pred):\n",
    "    return np.sqrt(np.mean((np.array(y_true) - np.array(y_test)) ** 2))\n",
    "\n",
    "rating_matrix= x_train.pivot(columns= 'movie_id', index= 'user_id', values= 'rating')\n",
    "\n",
    "def score(model, neighbor_size= 0):\n",
    "    id_pairs= zip(x_test['user_id'], x_test['movie_id'])\n",
    "    y_pred= np.array([model(user, movie, neighbor_size) for (user, movie) in id_pairs])\n",
    "    y_true= np.array(x_test['rating'])    \n",
    "    return RMSE(y_true, y_pred)\n",
    "\n",
    "from sklearn.metrics.pairwise import cosine_similarity\n",
    "matrix_dummy= rating_matrix.copy().fillna(0)\n",
    "user_similarity= cosine_similarity(matrix_dummy, matrix_dummy)\n",
    "user_similarity= pd.DataFrame(user_similarity, index= rating_matrix.index, columns= rating_matrix.index)"
   ]
  },
  {
   "cell_type": "markdown",
   "metadata": {},
   "source": [
    "### CF wih user bias Algorithm\n",
    "1. 각 user의 평점 평균을 구함\n",
    "2. 각 item의 평점을 평점 편차로 수정(해당 평가를 내린 user의 평균과 얼마나 다른 지)\n",
    "3. 특정 user의 각 item에 대한 예상 평점 편차를 구함\n",
    "4. 해당 user의 예상 평점 편차에 그 user의 평균 평점을 더함."
   ]
  },
  {
   "cell_type": "code",
   "execution_count": 33,
   "metadata": {},
   "outputs": [],
   "source": [
    "rating_mean= rating_matrix.mean(axis=1)\n",
    "rating_bias= (rating_matrix.T - rating_mean).T"
   ]
  },
  {
   "cell_type": "code",
   "execution_count": 42,
   "metadata": {},
   "outputs": [],
   "source": [
    "def cf_knn_bias(user_id, movie_id, neighbor_size= 0):\n",
    "    if movie_id in rating_bias:\n",
    "        sim_scores= user_similarity[user_id].copy()\n",
    "        movie_ratings= rating_bias[movie_id].copy()\n",
    "        \n",
    "        none_rating_idx= movie_ratings[movie_ratings.isnull()].index\n",
    "        movie_ratings= movie_ratings.drop(none_rating_idx)\n",
    "        sim_scores= sim_scores.drop(none_rating_idx)\n",
    "        \n",
    "        if neighbor_size == 0:\n",
    "            prediction= np.dot(sim_scores, movie_ratings) / sim_scores.sum()\n",
    "            prediction+= rating_mean[user_id]\n",
    "        \n",
    "        else:\n",
    "            if len(sim_scores) > 1:\n",
    "                neighbor_size= min(neighbor_size, len(sim_scores))\n",
    "                sim_scores= np.array(sim_scores)\n",
    "                movie_ratings= np.array(movie_ratings)\n",
    "                \n",
    "                user_idx= np.argsort(sim_scores)\n",
    "                \n",
    "                sim_scores= sim_scores[user_idx][-neighbor_size:]\n",
    "                movie_ratings= movie_ratings[user_idx][-neighbor_size:]\n",
    "                \n",
    "                prediction=  np.dot(sim_scores, movie_ratings) / sim_scores.sum()\n",
    "                prediction+= rating_mean[user_id]\n",
    "                \n",
    "            else:\n",
    "                prediction= rating_mean[user_id]\n",
    "                \n",
    "    else:\n",
    "        prediction= rating_mean[user_id]\n",
    "        \n",
    "    return prediction"
   ]
  },
  {
   "cell_type": "code",
   "execution_count": 43,
   "metadata": {},
   "outputs": [
    {
     "data": {
      "text/plain": [
       "530.7466511999863"
      ]
     },
     "execution_count": 43,
     "metadata": {},
     "output_type": "execute_result"
    }
   ],
   "source": [
    "score(cf_knn_bias, 20)"
   ]
  },
  {
   "cell_type": "markdown",
   "metadata": {},
   "source": [
    "## IBCF: Item-Based Collaborative Filtering\n",
    "user들의 평가 패턴을 바탕으로 **item간의 유사도**를 계산\n",
    "\n",
    "구체적으로\n",
    "* 예측 대상 user가 평가한 item의 평점과 다른 item과의 유사도를 가중하여 계산"
   ]
  },
  {
   "cell_type": "code",
   "execution_count": 44,
   "metadata": {},
   "outputs": [],
   "source": [
    "users, movies, ratings= get_data()\n",
    "\n",
    "ratings = ratings.drop('timestamp', axis=1)\n",
    "movies = movies[['movie_id', 'title']]\n",
    "\n",
    "from sklearn.model_selection import train_test_split\n",
    "x = ratings.copy()\n",
    "y = ratings['user_id']\n",
    "x_train, x_test, y_train, y_test = train_test_split(x, y, test_size=0.25, stratify=y)\n",
    "\n",
    "def RMSE(y_true, y_pred):\n",
    "    return np.sqrt(np.mean((np.array(y_true) - np.array(y_pred))**2))\n",
    "\n",
    "def score(model):\n",
    "    id_pairs = zip(x_test['user_id'], x_test['movie_id'])\n",
    "    y_pred = np.array([model(user, movie) for (user, movie) in id_pairs])\n",
    "    y_true = np.array(x_test['rating'])\n",
    "    return RMSE(y_true, y_pred)\n",
    "\n",
    "rating_matrix = x_train.pivot(index='user_id', columns='movie_id', values='rating')\n",
    "\n",
    "from sklearn.metrics.pairwise import cosine_similarity\n",
    "rating_matrix_t = np.transpose(rating_matrix)\n",
    "matrix_dummy = rating_matrix_t.copy().fillna(0)\n",
    "item_similarity = cosine_similarity(matrix_dummy, matrix_dummy)\n",
    "item_similarity = pd.DataFrame(item_similarity, index=rating_matrix_t.index, columns=rating_matrix_t.index)"
   ]
  },
  {
   "cell_type": "code",
   "execution_count": 45,
   "metadata": {},
   "outputs": [],
   "source": [
    "def IBCF(user_id, movie_id):\n",
    "    if movie_id in item_similarity:\n",
    "        sim_scores= item_similarity[movie_id]\n",
    "        user_rating= rating_matrix_t[user_id]\n",
    "        \n",
    "        none_rating_idx= user_rating[user_rating.isnull()].index\n",
    "        \n",
    "        user_rating= user_rating.dropna()\n",
    "        sim_scores= sim_scores.drop(none_rating_idx)\n",
    "        \n",
    "        mean_rating= np.dot(sim_scores, user_rating) / sim_scores.sum()\n",
    "        \n",
    "    else:\n",
    "        mean_rating= 3.0\n",
    "    \n",
    "    return mean_rating"
   ]
  },
  {
   "cell_type": "code",
   "execution_count": 46,
   "metadata": {},
   "outputs": [
    {
     "data": {
      "text/plain": [
       "1.00705243442935"
      ]
     },
     "execution_count": 46,
     "metadata": {},
     "output_type": "execute_result"
    }
   ],
   "source": [
    "score(IBCF)"
   ]
  },
  {
   "cell_type": "markdown",
   "metadata": {},
   "source": [
    "## 각종 평가지표들\n",
    "주로 Accuracy를 사용하지만, 마치 머신러닝처럼 다양한 평가 metric이 사용된다.\n",
    "\n",
    "* precision\n",
    "* recall\n",
    "* coverage\n",
    "* F1 score 등등!"
   ]
  }
 ],
 "metadata": {
  "kernelspec": {
   "display_name": "Python 3",
   "language": "python",
   "name": "python3"
  },
  "language_info": {
   "codemirror_mode": {
    "name": "ipython",
    "version": 3
   },
   "file_extension": ".py",
   "mimetype": "text/x-python",
   "name": "python",
   "nbconvert_exporter": "python",
   "pygments_lexer": "ipython3",
   "version": "3.8.3"
  }
 },
 "nbformat": 4,
 "nbformat_minor": 4
}
