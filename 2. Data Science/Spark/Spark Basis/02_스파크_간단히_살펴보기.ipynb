{
 "cells": [
  {
   "cell_type": "code",
   "execution_count": 1,
   "metadata": {},
   "outputs": [],
   "source": [
    "from pyspark.sql import SparkSession\n",
    "MAX_MEMORY = \"32g\"\n",
    "spark = (\n",
    "    SparkSession.builder.appName(\"Test Shell\")\n",
    "    .config(\"spark.driver.memory\", MAX_MEMORY)\n",
    "    .getOrCreate()\n",
    ")"
   ]
  },
  {
   "cell_type": "markdown",
   "metadata": {},
   "source": [
    "----\n",
    "----\n",
    "## Table of Contents\n",
    "### 1. Spark's Architecture\n",
    "* What is Spark\n",
    "* Spark Applicaiton\n",
    "* SparkSession\n",
    "\n",
    "### 2. RDD\n",
    "* What is RDD\n",
    "* RDD's Operation\n",
    "* RDD - Lazy Loading\n",
    "* Transformation's Dependency\n",
    "* small examples\n",
    "\n",
    "### 3. Main Example\n",
    "* Calling Data\n",
    "* DataFrame & Spark SQL\n",
    "* .explain\n",
    "---"
   ]
  },
  {
   "cell_type": "markdown",
   "metadata": {},
   "source": [
    "## Spark's Architecture\n",
    "#### 대규모 데이터의 처리\n",
    "\n",
    "대규모 데이터를 처리하는 등의 일은 한 대의 컴퓨터로 처리하기 힘들다. 그래서 컴퓨터 클러스터가 필요함.\n",
    "\n",
    "* 컴퓨터 클러스터: 여러 컴퓨터의 자원을 모아 하나의 컴퓨터처럼 사용 할 수 있게 만드는 것.\n",
    "\n",
    "### So, what is Spark?\n",
    "\n",
    "**Spark**: 클러스터의 데이터 처리 작업을 관리하고 조율하는 프레임워크\n",
    "\n",
    "사용자는 **클러스터 매니저**에 **스파크 애플리케이션**을 제출하고, 매니저는 애플리케이션 실행에 필요한 자원을 **할당**한다.\n",
    "\n",
    "### Spark Application\n",
    "Spark Applicaiton은 **driver 프로세스**와 다수의 **executor 프로세스**로 구성되어 있고, **클러스터 매니저**에 자원을 할당받는다.\n",
    "* **Driver Process**: ``main()``함수를 실행하며, 스파크 애플리켕션 정보의 유지 관리, 사용자 프로그램에 대한 응답, executor process의 작업 분석 및 스케줄링 등 전반적으로 **관리**하는 역할을 수행. ~= **Spark Session**\n",
    "* **Executor Process**: driver process가 할당한 작업을 수행. 스파크 코드를 실행하는 역할\n",
    "\n",
    "### SparkSession\n",
    "Driver Process의 일부분으로, Spark Application을 제어. 사용자가 정의한 처리 명령을 SparkSession instance가 실행"
   ]
  },
  {
   "cell_type": "markdown",
   "metadata": {},
   "source": [
    "---\n",
    "## RDD\n",
    "(RDD에 대한 구체적인 설명은 책에 나와있지 않아 [RDD를 설명한 이 블로그](https://bcho.tistory.com/1027)와 [종속성에 대해 설명한 이 블로그](https://brocess.tistory.com/187)를 참고했다.)\n",
    "\n",
    "**RDD**(Resilient Distributed Dataset): 여러개의 **파티션**으로 분리가 되는 변경이 불가능한 데이터의 집합(ex. DataFrame)\n",
    "\n",
    "Immutalbe하기 때문에, 변경이 필요하다면 새로운 dataset을 생성해야 한다.\n",
    "\n",
    "### RDD의 Operation\n",
    "* Transformation: 기존 RDD의 데이터를 변경하여 새로운 RDD 데이터를 생성하는 것. \n",
    "    * filter: 특정 데이터를 뽑아 냄\n",
    "    * map: 데이터를 분산 배치\n",
    "* Action: RDD 값을 기반으로 무엇인가를 계산해서 결과를 생성해내는 것. action을 실행하면 스파크 job이 시작된다.\n",
    "    * 최종 결과를 리턴(count)\n",
    "    * 데이터를 외부 저장소에 저장\n",
    "    \n",
    "### RDD의 Lazy Loading\n",
    "RDD에 transformation을 가해도, action이 일어나기 전까지 실제로 코드가 실행되지 않는다.\n",
    "\n",
    "즉, 스파크는 특정 tranformation 명령이 내려지면 기존 RDD에 적용할 transformation의 **실행 계획**을 생성한다. 이를 통해 스파크는 전체 데이터 흐름을 최적화 할 수 있다.\n",
    "* ``.explain()`` method로 실행 계획을 확인할 수 있다.\n",
    "\n",
    "### Transformation의 Dependency\n",
    "Transformation이란, 기존의 RDD 데이터를 변경(filter, mapping)하여 새로운 RDD 데이터를 생성하는 과정이다.\n",
    "\n",
    "이 때, 기존의 RDD를 부모 RDD, 새로운 RDD를 자식 RDD라고 한다면,\n",
    "#### 좁은 종속성\n",
    "부모 RDD의 Partition이 하나의 자식 Partition을 가진다면, 좁은 종속성이라고 한다.\n",
    "#### 넓은 종속성\n",
    "부모 RDD의 Partition이 여러 개의 자식 Partition을 가진다면, 넓은 종속성이라고 한다."
   ]
  },
  {
   "cell_type": "markdown",
   "metadata": {},
   "source": [
    "### Short  Example\n",
    "#### RDD Example: DataFrame\n",
    "Python과는 다르게, 하나의 DataFrame이 수천 대의 컴퓨터에 분산되어 있다."
   ]
  },
  {
   "cell_type": "code",
   "execution_count": 3,
   "metadata": {},
   "outputs": [],
   "source": [
    "myRange= spark.range(1000).toDF(\"number\")"
   ]
  },
  {
   "cell_type": "code",
   "execution_count": 4,
   "metadata": {
    "scrolled": false
   },
   "outputs": [
    {
     "name": "stdout",
     "output_type": "stream",
     "text": [
      "+------+\n",
      "|number|\n",
      "+------+\n",
      "|     0|\n",
      "|     1|\n",
      "|     2|\n",
      "|     3|\n",
      "|     4|\n",
      "|     5|\n",
      "|     6|\n",
      "|     7|\n",
      "|     8|\n",
      "|     9|\n",
      "|    10|\n",
      "|    11|\n",
      "|    12|\n",
      "|    13|\n",
      "|    14|\n",
      "|    15|\n",
      "|    16|\n",
      "|    17|\n",
      "|    18|\n",
      "|    19|\n",
      "+------+\n",
      "only showing top 20 rows\n",
      "\n"
     ]
    }
   ],
   "source": [
    "myRange.show()"
   ]
  },
  {
   "cell_type": "markdown",
   "metadata": {},
   "source": [
    "#### Transformation & Action Example"
   ]
  },
  {
   "cell_type": "code",
   "execution_count": 7,
   "metadata": {},
   "outputs": [],
   "source": [
    "divisBy2= myRange.where(\"number % 2 = 0\") # Transformation(filter): 좁은 종속성, 아직 실행되지 않음"
   ]
  },
  {
   "cell_type": "code",
   "execution_count": 8,
   "metadata": {},
   "outputs": [
    {
     "data": {
      "text/plain": [
       "500"
      ]
     },
     "execution_count": 8,
     "metadata": {},
     "output_type": "execute_result"
    }
   ],
   "source": [
    "divisBy2.count() # Action(count): 넓은 종속성, 이 시점에서 앞의 transformation과 본 action이 실행됨"
   ]
  },
  {
   "cell_type": "markdown",
   "metadata": {},
   "source": [
    "---\n",
    "## Main Example\n",
    "#### Data 불러오기 - RDD 생성"
   ]
  },
  {
   "cell_type": "code",
   "execution_count": 10,
   "metadata": {},
   "outputs": [],
   "source": [
    "flight= spark\\\n",
    "    .read\\\n",
    "    .option(\"inferSchema\", \"true\")\\\n",
    "    .option(\"header\", \"true\")\\\n",
    "    .csv(\"/Users/jisujung/Desktop/dev/DataScience/Spark/Spark-The-Definitive-Guide-master/data/flight-data/csv/2015-summary.csv\")"
   ]
  },
  {
   "cell_type": "markdown",
   "metadata": {},
   "source": [
    "Data 확인"
   ]
  },
  {
   "cell_type": "code",
   "execution_count": 11,
   "metadata": {},
   "outputs": [
    {
     "data": {
      "text/plain": [
       "[Row(DEST_COUNTRY_NAME='United States', ORIGIN_COUNTRY_NAME='Romania', count=15),\n",
       " Row(DEST_COUNTRY_NAME='United States', ORIGIN_COUNTRY_NAME='Croatia', count=1),\n",
       " Row(DEST_COUNTRY_NAME='United States', ORIGIN_COUNTRY_NAME='Ireland', count=344)]"
      ]
     },
     "execution_count": 11,
     "metadata": {},
     "output_type": "execute_result"
    }
   ],
   "source": [
    "flight.take(3)"
   ]
  },
  {
   "cell_type": "markdown",
   "metadata": {},
   "source": [
    "#### Transformation & Explain"
   ]
  },
  {
   "cell_type": "code",
   "execution_count": 13,
   "metadata": {
    "scrolled": true
   },
   "outputs": [
    {
     "name": "stdout",
     "output_type": "stream",
     "text": [
      "== Physical Plan ==\n",
      "*(1) Sort [count#33 ASC NULLS FIRST], true, 0\n",
      "+- Exchange rangepartitioning(count#33 ASC NULLS FIRST, 200), true, [id=#69]\n",
      "   +- FileScan csv [DEST_COUNTRY_NAME#31,ORIGIN_COUNTRY_NAME#32,count#33] Batched: false, DataFilters: [], Format: CSV, Location: InMemoryFileIndex[file:/Users/jisujung/Desktop/dev/DataScience/Spark/Spark-The-Definitive-Guide-m..., PartitionFilters: [], PushedFilters: [], ReadSchema: struct<DEST_COUNTRY_NAME:string,ORIGIN_COUNTRY_NAME:string,count:int>\n",
      "\n",
      "\n"
     ]
    }
   ],
   "source": [
    "flight.sort(\"count\").explain()"
   ]
  },
  {
   "cell_type": "markdown",
   "metadata": {},
   "source": [
    "#### Action"
   ]
  },
  {
   "cell_type": "code",
   "execution_count": 14,
   "metadata": {},
   "outputs": [
    {
     "data": {
      "text/plain": [
       "[Row(DEST_COUNTRY_NAME='United States', ORIGIN_COUNTRY_NAME='Singapore', count=1),\n",
       " Row(DEST_COUNTRY_NAME='Moldova', ORIGIN_COUNTRY_NAME='United States', count=1)]"
      ]
     },
     "execution_count": 14,
     "metadata": {},
     "output_type": "execute_result"
    }
   ],
   "source": [
    "flight.sort(\"count\").take(2)"
   ]
  },
  {
   "cell_type": "markdown",
   "metadata": {},
   "source": [
    "### DataFrame과 SQL 사용하기\n",
    "DataFrame을 테이블(or View)로 등록하여 Spark SQL을 사용하는 방법과 DataFrame을 직접 코딩하는 방법이 있음. **결과는 같다!**"
   ]
  },
  {
   "cell_type": "markdown",
   "metadata": {},
   "source": [
    "#### DataFrame to Table\n",
    "DataFrame을 Table이나 View로 만들어준다. 이렇게 생성된 table은 spark sql을 통해 처리 할 수 있다."
   ]
  },
  {
   "cell_type": "code",
   "execution_count": 15,
   "metadata": {},
   "outputs": [],
   "source": [
    "flight.createOrReplaceTempView('flight_')"
   ]
  },
  {
   "cell_type": "code",
   "execution_count": 16,
   "metadata": {},
   "outputs": [],
   "source": [
    "# 1) by spark sql\n",
    "sqlWay= spark.sql(\"\"\"\n",
    "SELECT DEST_COUNTRY_NAME, count(1)\n",
    "FROM flight_\n",
    "GROUP BY DEST_COUNTRY_NAME\n",
    "\"\"\")\n",
    "\n",
    "# 2) by dataframe\n",
    "dataFrameWay= flight\\\n",
    "    .groupby(\"DEST_COUNTRY_NAME\")\\\n",
    "    .count()"
   ]
  },
  {
   "cell_type": "code",
   "execution_count": 17,
   "metadata": {},
   "outputs": [
    {
     "name": "stdout",
     "output_type": "stream",
     "text": [
      "== Physical Plan ==\n",
      "*(2) HashAggregate(keys=[DEST_COUNTRY_NAME#31], functions=[count(1)])\n",
      "+- Exchange hashpartitioning(DEST_COUNTRY_NAME#31, 200), true, [id=#98]\n",
      "   +- *(1) HashAggregate(keys=[DEST_COUNTRY_NAME#31], functions=[partial_count(1)])\n",
      "      +- FileScan csv [DEST_COUNTRY_NAME#31] Batched: false, DataFilters: [], Format: CSV, Location: InMemoryFileIndex[file:/Users/jisujung/Desktop/dev/DataScience/Spark/Spark-The-Definitive-Guide-m..., PartitionFilters: [], PushedFilters: [], ReadSchema: struct<DEST_COUNTRY_NAME:string>\n",
      "\n",
      "\n",
      "== Physical Plan ==\n",
      "*(2) HashAggregate(keys=[DEST_COUNTRY_NAME#31], functions=[count(1)])\n",
      "+- Exchange hashpartitioning(DEST_COUNTRY_NAME#31, 200), true, [id=#117]\n",
      "   +- *(1) HashAggregate(keys=[DEST_COUNTRY_NAME#31], functions=[partial_count(1)])\n",
      "      +- FileScan csv [DEST_COUNTRY_NAME#31] Batched: false, DataFilters: [], Format: CSV, Location: InMemoryFileIndex[file:/Users/jisujung/Desktop/dev/DataScience/Spark/Spark-The-Definitive-Guide-m..., PartitionFilters: [], PushedFilters: [], ReadSchema: struct<DEST_COUNTRY_NAME:string>\n",
      "\n",
      "\n"
     ]
    },
    {
     "data": {
      "text/plain": [
       "True"
      ]
     },
     "execution_count": 17,
     "metadata": {},
     "output_type": "execute_result"
    }
   ],
   "source": [
    "sqlWay.explain() == dataFrameWay.explain()"
   ]
  },
  {
   "cell_type": "markdown",
   "metadata": {},
   "source": [
    "#### 조금 더 복잡한 예제\n",
    "상위 5개의 도착 국가를 찾아보자"
   ]
  },
  {
   "cell_type": "code",
   "execution_count": 19,
   "metadata": {},
   "outputs": [],
   "source": [
    "maxSql= spark.sql(\"\"\"\n",
    "SELECT DEST_COUNTRY_NAME, sum(count) as destination_total\n",
    "FROM flight_\n",
    "GROUP BY DEST_COUNTRY_NAME\n",
    "ORDER BY sum(count) DESC\n",
    "LIMIT 5\"\"\")"
   ]
  },
  {
   "cell_type": "code",
   "execution_count": 20,
   "metadata": {},
   "outputs": [
    {
     "name": "stdout",
     "output_type": "stream",
     "text": [
      "+-----------------+-----------------+\n",
      "|DEST_COUNTRY_NAME|destination_total|\n",
      "+-----------------+-----------------+\n",
      "|    United States|           411352|\n",
      "|           Canada|             8399|\n",
      "|           Mexico|             7140|\n",
      "|   United Kingdom|             2025|\n",
      "|            Japan|             1548|\n",
      "+-----------------+-----------------+\n",
      "\n"
     ]
    }
   ],
   "source": [
    "maxSql.show()"
   ]
  },
  {
   "cell_type": "code",
   "execution_count": 21,
   "metadata": {},
   "outputs": [
    {
     "name": "stdout",
     "output_type": "stream",
     "text": [
      "== Physical Plan ==\n",
      "TakeOrderedAndProject(limit=5, orderBy=[aggOrder#61L DESC NULLS LAST], output=[DEST_COUNTRY_NAME#31,destination_total#59L])\n",
      "+- *(2) HashAggregate(keys=[DEST_COUNTRY_NAME#31], functions=[sum(cast(count#33 as bigint))])\n",
      "   +- Exchange hashpartitioning(DEST_COUNTRY_NAME#31, 200), true, [id=#178]\n",
      "      +- *(1) HashAggregate(keys=[DEST_COUNTRY_NAME#31], functions=[partial_sum(cast(count#33 as bigint))])\n",
      "         +- FileScan csv [DEST_COUNTRY_NAME#31,count#33] Batched: false, DataFilters: [], Format: CSV, Location: InMemoryFileIndex[file:/Users/jisujung/Desktop/dev/DataScience/Spark/Spark-The-Definitive-Guide-m..., PartitionFilters: [], PushedFilters: [], ReadSchema: struct<DEST_COUNTRY_NAME:string,count:int>\n",
      "\n",
      "\n"
     ]
    }
   ],
   "source": [
    "maxSql.explain()"
   ]
  },
  {
   "cell_type": "markdown",
   "metadata": {},
   "source": [
    "DataFrame의 변환 흐름\n",
    "1. Read csv file (DataFrame)\n",
    "2. groupby (DataFrame group)\n",
    "3. sum (DataFrame)\n",
    "4. change column name (DataFrame)\n",
    "5. Sort (DataFrame)\n",
    "6. Limit (DataFrame)\n",
    "7. show : **Action** - DataFrame의 결과를 모으는 프로세스를 이 시점에서 시작\n",
    "\n",
    "이러한 과정이 역순으로(가장 늦게 쌓인 순서대로) ``.explain()``의 결과값(실행 계획)에서 확인된다."
   ]
  }
 ],
 "metadata": {
  "kernelspec": {
   "display_name": "Python 3",
   "language": "python",
   "name": "python3"
  },
  "language_info": {
   "codemirror_mode": {
    "name": "ipython",
    "version": 3
   },
   "file_extension": ".py",
   "mimetype": "text/x-python",
   "name": "python",
   "nbconvert_exporter": "python",
   "pygments_lexer": "ipython3",
   "version": "3.8.3"
  }
 },
 "nbformat": 4,
 "nbformat_minor": 4
}
