{
 "cells": [
  {
   "cell_type": "markdown",
   "metadata": {},
   "source": [
    "# Deep Learning을 사용한 Recommendation System\n",
    "\n",
    "\n",
    "\n",
    "## Table of Contents\n",
    "### [1. Matrix Factorization to DL (w/o hidden layer)](http://localhost:8888/notebooks/Desktop/dev/RecSys/python을%20이용한%20개인화%20추천시스템/notes/Deep%20Learning%20Model%20for%20RecSys.ipynb#Matrix-Factorization-to-DL---w/o-hidden-layer)\n",
    "Matrix Factorization에서 사용한 개념 - User와 Item을 공통으로 설명할 수 있는 **Latent Factor**가 있을 것이라는 아이디어 - 를 사용한다.\n",
    "\n",
    "1. User(Item) Data를 Embedding하는 layer인 User Embedding(Item Embedding)을 만든다. \n",
    "2. User Embedding과 Item Embedding을 dot product하여 두 layer를 합친다.\n",
    "3. Product Layer에 User bias / Item bias matrix를 더하여 Output을 만든다.\n",
    "\n",
    "### [2. Matrix Factorization to DL (with hidden layers)](http://localhost:8888/notebooks/Desktop/dev/RecSys/python을%20이용한%20개인화%20추천시스템/notes/Deep%20Learning%20Model%20for%20RecSys.ipynb#Matrix-Factorization-to-DL-with-hidden-layer)\n",
    "\n",
    "사실 1번에서 다룬 model은 hidden layer가 없다. 그리고 어차피 여러 층의 hidden layer를 거칠거라면, user embedded matrix와 item embedded matrix를 product 할 필요는 없다. User embedding, Item embedding, user bias, item bias를 flatten하여 concatenate한 후, 여러 layer를 통해 학습시키면 충분하다.\n",
    "\n",
    "\n",
    "### [3. Add Variables to Model](http://localhost:8888/notebooks/Desktop/dev/RecSys/python을%20이용한%20개인화%20추천시스템/notes/Deep%20Learning%20Model%20for%20RecSys.ipynb#Add-Variables-to-Model)\n",
    "\n",
    "직접적인 평점 데이터 이외의 다른 데이터를 사용하려면(ex. user의 특성에 관한 데이터), embedding layer와 bias matrix를 concatenate할 때, 같이 합쳐 줄 수 있다."
   ]
  },
  {
   "cell_type": "markdown",
   "metadata": {},
   "source": [
    "---\n",
    "## Matrix Factorization to DL - w/o hidden layer\n",
    "\n",
    "#### First Layer - Input\n",
    "* User (One hot representation)\n",
    "* Item (One hot representation)\n",
    "\n",
    "#### Second Layer - Embedding\n",
    "* User Embedding\n",
    "* Item Embedding\n",
    "\n",
    "#### Dot\n",
    "* dot product User Embedding & Item Embedding\n",
    "\n",
    "#### Add\n",
    "* Producted Data\n",
    "* User Bias Embedding\n",
    "* Item Bias Embedding\n",
    "\n",
    "#### Flatten"
   ]
  },
  {
   "cell_type": "markdown",
   "metadata": {},
   "source": [
    "### Data Import"
   ]
  },
  {
   "cell_type": "code",
   "execution_count": 1,
   "metadata": {},
   "outputs": [],
   "source": [
    "import pandas as pd\n",
    "import numpy as np\n",
    "\n",
    "r_cols = ['user_id', 'movie_id', 'rating', 'timestamp']\n",
    "ratings = pd.read_csv('/Users/jisujung/Desktop/dev/RecSys/python을 이용한 개인화 추천시스템/data/u.data', sep='\\t', names=r_cols, encoding='latin-1')\n",
    "ratings= ratings[['user_id', 'movie_id', 'rating']].astype(int)"
   ]
  },
  {
   "cell_type": "markdown",
   "metadata": {},
   "source": [
    "Train_Test split"
   ]
  },
  {
   "cell_type": "code",
   "execution_count": 2,
   "metadata": {},
   "outputs": [],
   "source": [
    "from sklearn.utils import shuffle\n",
    "\n",
    "TRAIN_SIZE= 0.5\n",
    "ratings= shuffle(ratings)\n",
    "cutoff= int(TRAIN_SIZE * len(ratings))\n",
    "ratings_train= ratings.iloc[:cutoff]\n",
    "ratings_test=  ratings.iloc[:cutoff]"
   ]
  },
  {
   "cell_type": "code",
   "execution_count": 4,
   "metadata": {},
   "outputs": [],
   "source": [
    "K= 200\n",
    "mu= ratings_train.rating.mean()\n",
    "M= len(set(ratings.user_id)) + 1\n",
    "N= len(set(ratings.movie_id)) + 1"
   ]
  },
  {
   "cell_type": "code",
   "execution_count": 5,
   "metadata": {},
   "outputs": [],
   "source": [
    "def RMSE(y_true, y_pred):\n",
    "    return tf.sqrt(tf.reduce_mean(tf.square(y_true - y_pred)))"
   ]
  },
  {
   "cell_type": "markdown",
   "metadata": {},
   "source": [
    "### Modeling"
   ]
  },
  {
   "cell_type": "markdown",
   "metadata": {},
   "source": [
    "#### Initialize Layers"
   ]
  },
  {
   "cell_type": "code",
   "execution_count": 7,
   "metadata": {},
   "outputs": [],
   "source": [
    "import tensorflow as tf\n",
    "from tensorflow.keras import layers\n",
    "from tensorflow.keras.models import Model\n",
    "from tensorflow.keras.layers import Input, Embedding, Dot, Add, Flatten\n",
    "from tensorflow.keras.regularizers import l2\n",
    "from tensorflow.keras.optimizers import SGD, Adamax"
   ]
  },
  {
   "cell_type": "markdown",
   "metadata": {},
   "source": [
    "**Embedding**\n",
    "\n",
    "이전 Layer 층과 연결된 다음 Layer를 정의"
   ]
  },
  {
   "cell_type": "code",
   "execution_count": 8,
   "metadata": {},
   "outputs": [],
   "source": [
    "user= Input(shape=(1, ))\n",
    "item= Input(shape=(1, ))\n",
    "\n",
    "P_embedding= Embedding(M, K, embeddings_regularizer= l2())(user)\n",
    "Q_embedding= Embedding(N, K, embeddings_regularizer= l2())(item)\n",
    "user_bias= Embedding(M, 1, embeddings_regularizer= l2())(user)\n",
    "item_bias= Embedding(N, 1, embeddings_regularizer= l2())(item)"
   ]
  },
  {
   "cell_type": "code",
   "execution_count": 9,
   "metadata": {},
   "outputs": [],
   "source": [
    "R= layers.dot([P_embedding, Q_embedding], axes=2)\n",
    "R= layers.add([R, user_bias, item_bias])\n",
    "R= Flatten()(R)"
   ]
  },
  {
   "cell_type": "markdown",
   "metadata": {},
   "source": [
    "#### Define Model"
   ]
  },
  {
   "cell_type": "code",
   "execution_count": 10,
   "metadata": {},
   "outputs": [],
   "source": [
    "model= Model(inputs=[user, item], outputs= R)\n",
    "model.compile(\n",
    "    loss=RMSE,\n",
    "    optimizer= SGD(),\n",
    "    metrics= [RMSE]\n",
    ")"
   ]
  },
  {
   "cell_type": "code",
   "execution_count": 11,
   "metadata": {},
   "outputs": [
    {
     "name": "stdout",
     "output_type": "stream",
     "text": [
      "Model: \"model\"\n",
      "__________________________________________________________________________________________________\n",
      "Layer (type)                    Output Shape         Param #     Connected to                     \n",
      "==================================================================================================\n",
      "input_1 (InputLayer)            [(None, 1)]          0                                            \n",
      "__________________________________________________________________________________________________\n",
      "input_2 (InputLayer)            [(None, 1)]          0                                            \n",
      "__________________________________________________________________________________________________\n",
      "embedding (Embedding)           (None, 1, 200)       188800      input_1[0][0]                    \n",
      "__________________________________________________________________________________________________\n",
      "embedding_1 (Embedding)         (None, 1, 200)       336600      input_2[0][0]                    \n",
      "__________________________________________________________________________________________________\n",
      "dot (Dot)                       (None, 1, 1)         0           embedding[0][0]                  \n",
      "                                                                 embedding_1[0][0]                \n",
      "__________________________________________________________________________________________________\n",
      "embedding_2 (Embedding)         (None, 1, 1)         944         input_1[0][0]                    \n",
      "__________________________________________________________________________________________________\n",
      "embedding_3 (Embedding)         (None, 1, 1)         1683        input_2[0][0]                    \n",
      "__________________________________________________________________________________________________\n",
      "add (Add)                       (None, 1, 1)         0           dot[0][0]                        \n",
      "                                                                 embedding_2[0][0]                \n",
      "                                                                 embedding_3[0][0]                \n",
      "__________________________________________________________________________________________________\n",
      "flatten (Flatten)               (None, 1)            0           add[0][0]                        \n",
      "==================================================================================================\n",
      "Total params: 528,027\n",
      "Trainable params: 528,027\n",
      "Non-trainable params: 0\n",
      "__________________________________________________________________________________________________\n"
     ]
    }
   ],
   "source": [
    "model.summary()"
   ]
  },
  {
   "cell_type": "markdown",
   "metadata": {},
   "source": [
    "### Training Model"
   ]
  },
  {
   "cell_type": "code",
   "execution_count": 12,
   "metadata": {
    "scrolled": true
   },
   "outputs": [
    {
     "name": "stdout",
     "output_type": "stream",
     "text": [
      "Epoch 1/60\n",
      "196/196 [==============================] - 1s 4ms/step - loss: 5.4377 - RMSE: 1.1272 - val_loss: 5.1858 - val_RMSE: 1.1223\n",
      "Epoch 2/60\n",
      "196/196 [==============================] - 0s 3ms/step - loss: 5.1107 - RMSE: 1.1252 - val_loss: 4.8780 - val_RMSE: 1.1209\n",
      "Epoch 3/60\n",
      "196/196 [==============================] - 1s 3ms/step - loss: 4.8068 - RMSE: 1.1219 - val_loss: 4.5935 - val_RMSE: 1.1196\n",
      "Epoch 4/60\n",
      "196/196 [==============================] - 0s 3ms/step - loss: 4.5283 - RMSE: 1.1211 - val_loss: 4.3304 - val_RMSE: 1.1184\n",
      "Epoch 5/60\n",
      "196/196 [==============================] - 0s 3ms/step - loss: 4.2654 - RMSE: 1.1150 - val_loss: 4.0872 - val_RMSE: 1.1172\n",
      "Epoch 6/60\n",
      "196/196 [==============================] - 1s 3ms/step - loss: 4.0341 - RMSE: 1.1211 - val_loss: 3.8624 - val_RMSE: 1.1161\n",
      "Epoch 7/60\n",
      "196/196 [==============================] - 1s 3ms/step - loss: 3.8115 - RMSE: 1.1179 - val_loss: 3.6545 - val_RMSE: 1.1151\n",
      "Epoch 8/60\n",
      "196/196 [==============================] - 0s 2ms/step - loss: 3.6016 - RMSE: 1.1109 - val_loss: 3.4623 - val_RMSE: 1.1141\n",
      "Epoch 9/60\n",
      "196/196 [==============================] - 0s 3ms/step - loss: 3.4160 - RMSE: 1.1127 - val_loss: 3.2846 - val_RMSE: 1.1131\n",
      "Epoch 10/60\n",
      "196/196 [==============================] - 0s 2ms/step - loss: 3.2452 - RMSE: 1.1152 - val_loss: 3.1203 - val_RMSE: 1.1122\n",
      "Epoch 11/60\n",
      "196/196 [==============================] - 1s 3ms/step - loss: 3.0808 - RMSE: 1.1110 - val_loss: 2.9684 - val_RMSE: 1.1113\n",
      "Epoch 12/60\n",
      "196/196 [==============================] - 1s 3ms/step - loss: 2.9317 - RMSE: 1.1100 - val_loss: 2.8280 - val_RMSE: 1.1105\n",
      "Epoch 13/60\n",
      "196/196 [==============================] - 1s 3ms/step - loss: 2.7933 - RMSE: 1.1086 - val_loss: 2.6982 - val_RMSE: 1.1098\n",
      "Epoch 14/60\n",
      "196/196 [==============================] - 0s 2ms/step - loss: 2.6668 - RMSE: 1.1087 - val_loss: 2.5782 - val_RMSE: 1.1090\n",
      "Epoch 15/60\n",
      "196/196 [==============================] - 0s 2ms/step - loss: 2.5550 - RMSE: 1.1138 - val_loss: 2.4672 - val_RMSE: 1.1083\n",
      "Epoch 16/60\n",
      "196/196 [==============================] - 0s 2ms/step - loss: 2.4420 - RMSE: 1.1090 - val_loss: 2.3646 - val_RMSE: 1.1076\n",
      "Epoch 17/60\n",
      "196/196 [==============================] - 0s 2ms/step - loss: 2.3449 - RMSE: 1.1118 - val_loss: 2.2697 - val_RMSE: 1.1070\n",
      "Epoch 18/60\n",
      "196/196 [==============================] - 0s 2ms/step - loss: 2.2462 - RMSE: 1.1055 - val_loss: 2.1820 - val_RMSE: 1.1064\n",
      "Epoch 19/60\n",
      "196/196 [==============================] - 0s 2ms/step - loss: 2.1593 - RMSE: 1.1040 - val_loss: 2.1010 - val_RMSE: 1.1058\n",
      "Epoch 20/60\n",
      "196/196 [==============================] - 0s 2ms/step - loss: 2.0876 - RMSE: 1.1113 - val_loss: 2.0260 - val_RMSE: 1.1052\n",
      "Epoch 21/60\n",
      "196/196 [==============================] - 0s 2ms/step - loss: 2.0063 - RMSE: 1.1029 - val_loss: 1.9567 - val_RMSE: 1.1047\n",
      "Epoch 22/60\n",
      "196/196 [==============================] - 0s 2ms/step - loss: 1.9412 - RMSE: 1.1053 - val_loss: 1.8926 - val_RMSE: 1.1042\n",
      "Epoch 23/60\n",
      "196/196 [==============================] - 0s 2ms/step - loss: 1.8807 - RMSE: 1.1071 - val_loss: 1.8334 - val_RMSE: 1.1037\n",
      "Epoch 24/60\n",
      "196/196 [==============================] - 0s 2ms/step - loss: 1.8151 - RMSE: 1.0991 - val_loss: 1.7786 - val_RMSE: 1.1033\n",
      "Epoch 25/60\n",
      "196/196 [==============================] - 0s 2ms/step - loss: 1.7691 - RMSE: 1.1064 - val_loss: 1.7280 - val_RMSE: 1.1028\n",
      "Epoch 26/60\n",
      "196/196 [==============================] - 0s 2ms/step - loss: 1.7183 - RMSE: 1.1048 - val_loss: 1.6811 - val_RMSE: 1.1024\n",
      "Epoch 27/60\n",
      "196/196 [==============================] - 0s 2ms/step - loss: 1.6728 - RMSE: 1.1047 - val_loss: 1.6379 - val_RMSE: 1.1020\n",
      "Epoch 28/60\n",
      "196/196 [==============================] - 0s 2ms/step - loss: 1.6248 - RMSE: 1.0988 - val_loss: 1.5978 - val_RMSE: 1.1016\n",
      "Epoch 29/60\n",
      "196/196 [==============================] - 0s 2ms/step - loss: 1.5888 - RMSE: 1.1017 - val_loss: 1.5608 - val_RMSE: 1.1012\n",
      "Epoch 30/60\n",
      "196/196 [==============================] - 0s 2ms/step - loss: 1.5535 - RMSE: 1.1024 - val_loss: 1.5266 - val_RMSE: 1.1009\n",
      "Epoch 31/60\n",
      "196/196 [==============================] - 0s 2ms/step - loss: 1.5205 - RMSE: 1.1025 - val_loss: 1.4950 - val_RMSE: 1.1006\n",
      "Epoch 32/60\n",
      "196/196 [==============================] - 0s 2ms/step - loss: 1.4894 - RMSE: 1.1021 - val_loss: 1.4658 - val_RMSE: 1.1002\n",
      "Epoch 33/60\n",
      "196/196 [==============================] - 0s 2ms/step - loss: 1.4572 - RMSE: 1.0983 - val_loss: 1.4387 - val_RMSE: 1.0999\n",
      "Epoch 34/60\n",
      "196/196 [==============================] - 0s 2ms/step - loss: 1.4278 - RMSE: 1.0951 - val_loss: 1.4137 - val_RMSE: 1.0997\n",
      "Epoch 35/60\n",
      "196/196 [==============================] - 0s 2ms/step - loss: 1.4063 - RMSE: 1.0979 - val_loss: 1.3906 - val_RMSE: 1.0994\n",
      "Epoch 36/60\n",
      "196/196 [==============================] - 0s 2ms/step - loss: 1.3853 - RMSE: 1.0992 - val_loss: 1.3693 - val_RMSE: 1.0991\n",
      "Epoch 37/60\n",
      "196/196 [==============================] - 0s 2ms/step - loss: 1.3642 - RMSE: 1.0988 - val_loss: 1.3495 - val_RMSE: 1.0989\n",
      "Epoch 38/60\n",
      "196/196 [==============================] - 0s 2ms/step - loss: 1.3425 - RMSE: 1.0962 - val_loss: 1.3313 - val_RMSE: 1.0986\n",
      "Epoch 39/60\n",
      "196/196 [==============================] - 0s 2ms/step - loss: 1.3300 - RMSE: 1.1014 - val_loss: 1.3144 - val_RMSE: 1.0984\n",
      "Epoch 40/60\n",
      "196/196 [==============================] - 0s 2ms/step - loss: 1.3080 - RMSE: 1.0957 - val_loss: 1.2988 - val_RMSE: 1.0982\n",
      "Epoch 41/60\n",
      "196/196 [==============================] - 0s 2ms/step - loss: 1.2951 - RMSE: 1.0979 - val_loss: 1.2843 - val_RMSE: 1.0980\n",
      "Epoch 42/60\n",
      "196/196 [==============================] - 0s 2ms/step - loss: 1.2806 - RMSE: 1.0974 - val_loss: 1.2710 - val_RMSE: 1.0978\n",
      "Epoch 43/60\n",
      "196/196 [==============================] - 0s 2ms/step - loss: 1.2661 - RMSE: 1.0958 - val_loss: 1.2586 - val_RMSE: 1.0976\n",
      "Epoch 44/60\n",
      "196/196 [==============================] - 0s 2ms/step - loss: 1.2555 - RMSE: 1.0971 - val_loss: 1.2472 - val_RMSE: 1.0974\n",
      "Epoch 45/60\n",
      "196/196 [==============================] - 0s 2ms/step - loss: 1.2422 - RMSE: 1.0948 - val_loss: 1.2367 - val_RMSE: 1.0972\n",
      "Epoch 46/60\n",
      "196/196 [==============================] - 0s 2ms/step - loss: 1.2312 - RMSE: 1.0940 - val_loss: 1.2269 - val_RMSE: 1.0970\n",
      "Epoch 47/60\n",
      "196/196 [==============================] - 0s 2ms/step - loss: 1.2249 - RMSE: 1.0970 - val_loss: 1.2179 - val_RMSE: 1.0969\n",
      "Epoch 48/60\n",
      "196/196 [==============================] - 0s 2ms/step - loss: 1.2120 - RMSE: 1.0928 - val_loss: 1.2096 - val_RMSE: 1.0967\n",
      "Epoch 49/60\n",
      "196/196 [==============================] - 0s 2ms/step - loss: 1.2096 - RMSE: 1.0984 - val_loss: 1.2019 - val_RMSE: 1.0966\n",
      "Epoch 50/60\n",
      "196/196 [==============================] - 0s 2ms/step - loss: 1.1972 - RMSE: 1.0934 - val_loss: 1.1948 - val_RMSE: 1.0964\n",
      "Epoch 51/60\n",
      "196/196 [==============================] - 0s 2ms/step - loss: 1.1903 - RMSE: 1.0934 - val_loss: 1.1882 - val_RMSE: 1.0963\n",
      "Epoch 52/60\n",
      "196/196 [==============================] - 0s 2ms/step - loss: 1.1885 - RMSE: 1.0979 - val_loss: 1.1821 - val_RMSE: 1.0962\n",
      "Epoch 53/60\n",
      "196/196 [==============================] - 0s 2ms/step - loss: 1.1751 - RMSE: 1.0904 - val_loss: 1.1764 - val_RMSE: 1.0961\n",
      "Epoch 54/60\n",
      "196/196 [==============================] - 0s 2ms/step - loss: 1.1739 - RMSE: 1.0946 - val_loss: 1.1712 - val_RMSE: 1.0959\n",
      "Epoch 55/60\n",
      "196/196 [==============================] - 0s 2ms/step - loss: 1.1700 - RMSE: 1.0956 - val_loss: 1.1664 - val_RMSE: 1.0958\n",
      "Epoch 56/60\n",
      "196/196 [==============================] - 0s 2ms/step - loss: 1.1653 - RMSE: 1.0956 - val_loss: 1.1620 - val_RMSE: 1.0957\n",
      "Epoch 57/60\n",
      "196/196 [==============================] - 0s 2ms/step - loss: 1.1597 - RMSE: 1.0943 - val_loss: 1.1579 - val_RMSE: 1.0956\n",
      "Epoch 58/60\n",
      "196/196 [==============================] - 0s 2ms/step - loss: 1.1541 - RMSE: 1.0926 - val_loss: 1.1541 - val_RMSE: 1.0955\n",
      "Epoch 59/60\n",
      "196/196 [==============================] - 0s 2ms/step - loss: 1.1489 - RMSE: 1.0910 - val_loss: 1.1505 - val_RMSE: 1.0954\n",
      "Epoch 60/60\n",
      "196/196 [==============================] - 0s 2ms/step - loss: 1.1456 - RMSE: 1.0911 - val_loss: 1.1473 - val_RMSE: 1.0953\n"
     ]
    }
   ],
   "source": [
    "result= model.fit(\n",
    "    x= [ratings_train.user_id.values, ratings_train.movie_id.values],\n",
    "    y= ratings_train.rating.values -  mu,\n",
    "    epochs= 60,\n",
    "    batch_size= 256,\n",
    "    validation_data=(\n",
    "        [ratings_test.user_id.values, ratings_test.movie_id.values],\n",
    "        ratings_test.rating.values - mu\n",
    "    )\n",
    ")"
   ]
  },
  {
   "cell_type": "markdown",
   "metadata": {},
   "source": [
    "### Evaluating Model"
   ]
  },
  {
   "cell_type": "markdown",
   "metadata": {},
   "source": [
    "#### Plotting"
   ]
  },
  {
   "cell_type": "code",
   "execution_count": 13,
   "metadata": {},
   "outputs": [
    {
     "data": {
      "image/png": "[encoded data removed]",
      "text/plain": [
       "<Figure size 432x288 with 1 Axes>"
      ]
     },
     "metadata": {
      "needs_background": "light"
     },
     "output_type": "display_data"
    }
   ],
   "source": [
    "import matplotlib.pyplot as plt\n",
    "\n",
    "plt.plot(result.history['RMSE'], label=\"Train RMSE\")\n",
    "plt.plot(result.history['val_RMSE'], label= \"Test RMSE\")\n",
    "\n",
    "plt.xlabel('epoch')\n",
    "plt.ylabel('RMSE')\n",
    "plt.legend()\n",
    "plt.show()"
   ]
  },
  {
   "cell_type": "markdown",
   "metadata": {},
   "source": [
    "#### Predict sample values"
   ]
  },
  {
   "cell_type": "code",
   "execution_count": 14,
   "metadata": {},
   "outputs": [
    {
     "name": "stdout",
     "output_type": "stream",
     "text": [
      "Actuals: \n",
      " 38078    2\n",
      "5060     1\n",
      "68190    4\n",
      "5929     5\n",
      "81301    2\n",
      "97539    3\n",
      "Name: rating, dtype: int64\n",
      "\n",
      "Predictions: \n",
      " [[3.536372 ]\n",
      " [3.4306452]\n",
      " [3.5478108]\n",
      " [3.6021094]\n",
      " [3.5395792]\n",
      " [3.5364323]]\n"
     ]
    }
   ],
   "source": [
    "user_ids= ratings_test.user_id.values[:6]\n",
    "movie_ids= ratings_test.movie_id.values[:6]\n",
    "\n",
    "predictions= model.predict([user_ids, movie_ids]) + mu\n",
    "\n",
    "print(\"Actuals: \\n\", ratings_test.rating[:6])\n",
    "print()\n",
    "print(\"Predictions: \\n\", predictions)"
   ]
  },
  {
   "cell_type": "code",
   "execution_count": 15,
   "metadata": {},
   "outputs": [
    {
     "data": {
      "text/plain": [
       "1.0958504318720563"
      ]
     },
     "execution_count": 15,
     "metadata": {},
     "output_type": "execute_result"
    }
   ],
   "source": [
    "def RMSE2(y_true, y_pred):\n",
    "    return np.sqrt(np.mean((np.array(y_true) - np.array(y_pred)) ** 2))\n",
    "\n",
    "user_ids= ratings_test.user_id.values\n",
    "movie_ids= ratings_test.movie_id.values\n",
    "\n",
    "y_pred= model.predict([user_ids, movie_ids]) + mu\n",
    "y_pred= np.ravel(y_pred, order= \"C\")\n",
    "y_true= np.array(ratings_test.rating)\n",
    "\n",
    "RMSE2(y_true, y_pred)"
   ]
  },
  {
   "cell_type": "markdown",
   "metadata": {},
   "source": [
    "---\n",
    "## Matrix Factorization to DL with hidden layer\n",
    "\n",
    "#### First Layer - Input\n",
    "* User (One hot representation)\n",
    "* Item (One hot representation)\n",
    "\n",
    "#### Second Layer - Embedding\n",
    "* User Embedding\n",
    "* Item Embedding\n",
    "\n",
    "#### Concatenate\n",
    "Concatenate 4 layers for mapping model\n",
    "* User Embedding\n",
    "* Item Embedding\n",
    "* User bias\n",
    "* Item bias\n",
    "\n",
    "#### Hidden Layer"
   ]
  },
  {
   "cell_type": "markdown",
   "metadata": {},
   "source": [
    "### Data Import"
   ]
  },
  {
   "cell_type": "code",
   "execution_count": 16,
   "metadata": {},
   "outputs": [],
   "source": [
    "import pandas as pd\n",
    "import numpy as np\n",
    "\n",
    "r_cols = ['user_id', 'movie_id', 'rating', 'timestamp']\n",
    "ratings = pd.read_csv('/Users/jisujung/Desktop/dev/RecSys/python을 이용한 개인화 추천시스템/data/u.data', sep='\\t', names=r_cols, encoding='latin-1')\n",
    "ratings= ratings[['user_id', 'movie_id', 'rating']].astype(int)\n",
    "\n",
    "from sklearn.utils import shuffle\n",
    "train_size= 0.75\n",
    "ratings= shuffle(ratings)\n",
    "cutoff= int(train_size * len(ratings))\n",
    "ratings_train= ratings.iloc[:cutoff]\n",
    "ratings_test= ratings.iloc[cutoff:]\n",
    "\n",
    "import tensorflow as tf\n",
    "from tensorflow.keras.models import Model\n",
    "from tensorflow.keras.layers import Input, Embedding, Flatten\n",
    "from tensorflow.keras.regularizers import l2\n",
    "from tensorflow.keras.optimizers import SGD\n",
    "\n",
    "K= 200\n",
    "mu= ratings_train.rating.mean()\n",
    "M= ratings.user_id.max() + 1\n",
    "N= ratings.movie_id.max() + 1\n",
    "\n",
    "def RMSE(y_true, y_pred):\n",
    "    return tf.sqrt(tf.reduce_mean(tf.square(y_true - y_pred)))"
   ]
  },
  {
   "cell_type": "markdown",
   "metadata": {},
   "source": [
    "### Modeling\n",
    "#### Initialize Layers"
   ]
  },
  {
   "cell_type": "code",
   "execution_count": 17,
   "metadata": {},
   "outputs": [],
   "source": [
    "user= Input(shape=(1, ))\n",
    "item= Input(shape=(1, ))\n",
    "\n",
    "P_embedding= Embedding(M, K, embeddings_regularizer= l2())(user)\n",
    "Q_embedding= Embedding(N, K, embeddings_regularizer= l2())(item)\n",
    "\n",
    "user_bias= Embedding(M, 1, embeddings_regularizer= l2())(user)\n",
    "item_bias= Embedding(N, 1, embeddings_regularizer= l2())(item)"
   ]
  },
  {
   "cell_type": "markdown",
   "metadata": {},
   "source": [
    "#### Concatenate Layers"
   ]
  },
  {
   "cell_type": "code",
   "execution_count": 18,
   "metadata": {},
   "outputs": [],
   "source": [
    "from tensorflow.keras.layers import Dense, Concatenate, Activation\n",
    "P_embedding= Flatten()(P_embedding)\n",
    "Q_embedding= Flatten()(Q_embedding)\n",
    "user_bias= Flatten()(user_bias)\n",
    "item_bias= Flatten()(item_bias)\n",
    "\n",
    "R= Concatenate()([P_embedding, Q_embedding, user_bias, item_bias])"
   ]
  },
  {
   "cell_type": "markdown",
   "metadata": {},
   "source": [
    "#### Neural Network"
   ]
  },
  {
   "cell_type": "code",
   "execution_count": 19,
   "metadata": {},
   "outputs": [],
   "source": [
    "R= Dense(2048)(R)\n",
    "R= Activation('linear')(R)\n",
    "R= Dense(256)(R)\n",
    "R= Activation('linear')(R)\n",
    "R= Dense(1)(R)"
   ]
  },
  {
   "cell_type": "markdown",
   "metadata": {},
   "source": [
    "#### Define Model"
   ]
  },
  {
   "cell_type": "code",
   "execution_count": 20,
   "metadata": {},
   "outputs": [],
   "source": [
    "model= Model(inputs= [user, item], outputs= R)\n",
    "model.compile(\n",
    "    loss= RMSE,\n",
    "    optimizer= SGD(),\n",
    "    metrics= [RMSE]\n",
    ")"
   ]
  },
  {
   "cell_type": "code",
   "execution_count": 21,
   "metadata": {
    "scrolled": false
   },
   "outputs": [
    {
     "name": "stdout",
     "output_type": "stream",
     "text": [
      "Model: \"model_1\"\n",
      "__________________________________________________________________________________________________\n",
      "Layer (type)                    Output Shape         Param #     Connected to                     \n",
      "==================================================================================================\n",
      "input_3 (InputLayer)            [(None, 1)]          0                                            \n",
      "__________________________________________________________________________________________________\n",
      "input_4 (InputLayer)            [(None, 1)]          0                                            \n",
      "__________________________________________________________________________________________________\n",
      "embedding_4 (Embedding)         (None, 1, 200)       188800      input_3[0][0]                    \n",
      "__________________________________________________________________________________________________\n",
      "embedding_5 (Embedding)         (None, 1, 200)       336600      input_4[0][0]                    \n",
      "__________________________________________________________________________________________________\n",
      "embedding_6 (Embedding)         (None, 1, 1)         944         input_3[0][0]                    \n",
      "__________________________________________________________________________________________________\n",
      "embedding_7 (Embedding)         (None, 1, 1)         1683        input_4[0][0]                    \n",
      "__________________________________________________________________________________________________\n",
      "flatten_1 (Flatten)             (None, 200)          0           embedding_4[0][0]                \n",
      "__________________________________________________________________________________________________\n",
      "flatten_2 (Flatten)             (None, 200)          0           embedding_5[0][0]                \n",
      "__________________________________________________________________________________________________\n",
      "flatten_3 (Flatten)             (None, 1)            0           embedding_6[0][0]                \n",
      "__________________________________________________________________________________________________\n",
      "flatten_4 (Flatten)             (None, 1)            0           embedding_7[0][0]                \n",
      "__________________________________________________________________________________________________\n",
      "concatenate (Concatenate)       (None, 402)          0           flatten_1[0][0]                  \n",
      "                                                                 flatten_2[0][0]                  \n",
      "                                                                 flatten_3[0][0]                  \n",
      "                                                                 flatten_4[0][0]                  \n",
      "__________________________________________________________________________________________________\n",
      "dense (Dense)                   (None, 2048)         825344      concatenate[0][0]                \n",
      "__________________________________________________________________________________________________\n",
      "activation (Activation)         (None, 2048)         0           dense[0][0]                      \n",
      "__________________________________________________________________________________________________\n",
      "dense_1 (Dense)                 (None, 256)          524544      activation[0][0]                 \n",
      "__________________________________________________________________________________________________\n",
      "activation_1 (Activation)       (None, 256)          0           dense_1[0][0]                    \n",
      "__________________________________________________________________________________________________\n",
      "dense_2 (Dense)                 (None, 1)            257         activation_1[0][0]               \n",
      "==================================================================================================\n",
      "Total params: 1,878,172\n",
      "Trainable params: 1,878,172\n",
      "Non-trainable params: 0\n",
      "__________________________________________________________________________________________________\n"
     ]
    }
   ],
   "source": [
    "model.summary()"
   ]
  },
  {
   "cell_type": "markdown",
   "metadata": {},
   "source": [
    "### Training"
   ]
  },
  {
   "cell_type": "code",
   "execution_count": null,
   "metadata": {},
   "outputs": [],
   "source": [
    "result= model.fit(\n",
    "    x= [ratings_train.user_id.values, ratings_train.movie_id.values],\n",
    "    y= ratings_train.rating.values - mu,\n",
    "    epochs= 65,\n",
    "    batch_size= 512,\n",
    "    validation_data=(\n",
    "        [ratings_test.user_id.values, ratings_test.movie_id.values],\n",
    "        ratings_test.rating.values - mu\n",
    "    )\n",
    ")"
   ]
  },
  {
   "cell_type": "markdown",
   "metadata": {},
   "source": [
    "---\n",
    "## Add Variables to Model\n",
    "### Data Import"
   ]
  },
  {
   "cell_type": "code",
   "execution_count": 22,
   "metadata": {},
   "outputs": [],
   "source": [
    "import pandas as pd\n",
    "import numpy as np\n",
    "\n",
    "r_cols = ['user_id', 'movie_id', 'rating', 'timestamp']\n",
    "ratings = pd.read_csv('/Users/jisujung/Desktop/dev/RecSys/python을 이용한 개인화 추천시스템/data/u.data', sep='\\t', names=r_cols, encoding='latin-1')\n",
    "ratings= ratings[['user_id', 'movie_id', 'rating']].astype(int)\n",
    "\n",
    "from sklearn.utils import shuffle\n",
    "train_size= 0.75\n",
    "ratings= shuffle(ratings)\n",
    "cutoff= int(train_size * len(ratings))\n",
    "ratings_train= ratings.iloc[:cutoff]\n",
    "ratings_test= ratings.iloc[cutoff:]\n",
    "\n",
    "import tensorflow as tf\n",
    "from tensorflow.keras.models import Model\n",
    "from tensorflow.keras.layers import Input, Embedding, Flatten\n",
    "from tensorflow.keras.regularizers import l2\n",
    "from tensorflow.keras.optimizers import SGD\n",
    "\n",
    "K= 200\n",
    "mu= ratings_train.rating.mean()\n",
    "M= ratings.user_id.max() + 1\n",
    "N= ratings.movie_id.max() + 1\n",
    "\n",
    "def RMSE(y_true, y_pred):\n",
    "    return tf.sqrt(tf.reduce_mean(tf.square(y_true - y_pred)))"
   ]
  },
  {
   "cell_type": "markdown",
   "metadata": {},
   "source": [
    "#### User Data"
   ]
  },
  {
   "cell_type": "code",
   "execution_count": 23,
   "metadata": {},
   "outputs": [
    {
     "data": {
      "text/plain": [
       "{'administrator',\n",
       " 'artist',\n",
       " 'doctor',\n",
       " 'educator',\n",
       " 'engineer',\n",
       " 'entertainment',\n",
       " 'executive',\n",
       " 'healthcare',\n",
       " 'homemaker',\n",
       " 'lawyer',\n",
       " 'librarian',\n",
       " 'marketing',\n",
       " 'none',\n",
       " 'other',\n",
       " 'programmer',\n",
       " 'retired',\n",
       " 'salesman',\n",
       " 'scientist',\n",
       " 'student',\n",
       " 'technician',\n",
       " 'writer'}"
      ]
     },
     "execution_count": 23,
     "metadata": {},
     "output_type": "execute_result"
    }
   ],
   "source": [
    "u_cols= ['user_id', 'age', 'sex', 'occupation', 'zip_code']\n",
    "users= pd.read_csv('/Users/jisujung/Desktop/dev/RecSys/python을 이용한 개인화 추천시스템/data/u.user', sep='|', names= u_cols, encoding= 'latin-1')\n",
    "users= users[['user_id', 'occupation']]\n",
    "\n",
    "set(users.occupation)"
   ]
  },
  {
   "cell_type": "markdown",
   "metadata": {},
   "source": [
    "#### Convert occupation (str -> int)"
   ]
  },
  {
   "cell_type": "code",
   "execution_count": 24,
   "metadata": {},
   "outputs": [],
   "source": [
    "occupation= {}\n",
    "def convert_occ(x):\n",
    "    if x in occupation:\n",
    "        return occupation[x]\n",
    "    else:\n",
    "        occupation[x]= len(occupation)\n",
    "        return occupation[x]\n",
    "    \n",
    "users['occupation']= users['occupation'].apply(convert_occ)"
   ]
  },
  {
   "cell_type": "markdown",
   "metadata": {},
   "source": [
    "#### Merge ratings data and user occupation data"
   ]
  },
  {
   "cell_type": "code",
   "execution_count": 25,
   "metadata": {},
   "outputs": [],
   "source": [
    "L= len(occupation)\n",
    "\n",
    "train_occ= pd.merge(ratings_train, users, on= 'user_id')['occupation']\n",
    "test_occ= pd.merge(ratings_test, users, on= 'user_id')['occupation']"
   ]
  },
  {
   "cell_type": "markdown",
   "metadata": {},
   "source": [
    "### Modeling\n",
    "#### Initialzing Layers"
   ]
  },
  {
   "cell_type": "code",
   "execution_count": 26,
   "metadata": {},
   "outputs": [],
   "source": [
    "user = Input(shape=(1, ))\n",
    "item = Input(shape=(1, ))\n",
    "\n",
    "P_embedding = Embedding(M, K, embeddings_regularizer=l2())(user)\n",
    "Q_embedding = Embedding(N, K, embeddings_regularizer=l2())(item)\n",
    "user_bias = Embedding(M, 1, embeddings_regularizer=l2())(user)\n",
    "item_bias = Embedding(N, 1, embeddings_regularizer=l2())(item)\n",
    "\n",
    "occ= Input(shape=(1, ))\n",
    "# 3개인 이유는 없음! K를 정하는 것과 같음\n",
    "occ_embedding= Embedding(L, 3, embeddings_regularizer= l2())(occ)"
   ]
  },
  {
   "cell_type": "markdown",
   "metadata": {},
   "source": [
    "#### Flattening layers to concatenate"
   ]
  },
  {
   "cell_type": "code",
   "execution_count": 27,
   "metadata": {},
   "outputs": [],
   "source": [
    "from tensorflow.keras.layers import Dense, Concatenate, Activation\n",
    "\n",
    "P_embedding= Flatten()(P_embedding)\n",
    "Q_embedding= Flatten()(Q_embedding)\n",
    "user_bias= Flatten()(user_bias)\n",
    "item_bias= Flatten()(item_bias)\n",
    "\n",
    "occ_layer= Flatten()(occ_embedding)\n",
    "\n",
    "\n",
    "R= Concatenate()([P_embedding, Q_embedding, user_bias, item_bias, occ_layer])"
   ]
  },
  {
   "cell_type": "markdown",
   "metadata": {},
   "source": [
    "#### Neural Network"
   ]
  },
  {
   "cell_type": "code",
   "execution_count": 28,
   "metadata": {},
   "outputs": [],
   "source": [
    "R= Dense(2048)(R)\n",
    "R= Activation('linear')(R)\n",
    "R= Dense(256)(R)\n",
    "R= Activation('linear')(R)\n",
    "R= Dense(1)(R)"
   ]
  },
  {
   "cell_type": "markdown",
   "metadata": {},
   "source": [
    "#### Define Model"
   ]
  },
  {
   "cell_type": "code",
   "execution_count": 29,
   "metadata": {},
   "outputs": [],
   "source": [
    "model= Model(inputs=[user, item, occ], outputs= R)\n",
    "model.compile(\n",
    "    loss= RMSE,\n",
    "    optimizer= SGD(),\n",
    "    metrics= [RMSE]\n",
    ")"
   ]
  },
  {
   "cell_type": "code",
   "execution_count": 30,
   "metadata": {},
   "outputs": [
    {
     "name": "stdout",
     "output_type": "stream",
     "text": [
      "Model: \"model_2\"\n",
      "__________________________________________________________________________________________________\n",
      "Layer (type)                    Output Shape         Param #     Connected to                     \n",
      "==================================================================================================\n",
      "input_5 (InputLayer)            [(None, 1)]          0                                            \n",
      "__________________________________________________________________________________________________\n",
      "input_6 (InputLayer)            [(None, 1)]          0                                            \n",
      "__________________________________________________________________________________________________\n",
      "input_7 (InputLayer)            [(None, 1)]          0                                            \n",
      "__________________________________________________________________________________________________\n",
      "embedding_8 (Embedding)         (None, 1, 200)       188800      input_5[0][0]                    \n",
      "__________________________________________________________________________________________________\n",
      "embedding_9 (Embedding)         (None, 1, 200)       336600      input_6[0][0]                    \n",
      "__________________________________________________________________________________________________\n",
      "embedding_10 (Embedding)        (None, 1, 1)         944         input_5[0][0]                    \n",
      "__________________________________________________________________________________________________\n",
      "embedding_11 (Embedding)        (None, 1, 1)         1683        input_6[0][0]                    \n",
      "__________________________________________________________________________________________________\n",
      "embedding_12 (Embedding)        (None, 1, 3)         63          input_7[0][0]                    \n",
      "__________________________________________________________________________________________________\n",
      "flatten_5 (Flatten)             (None, 200)          0           embedding_8[0][0]                \n",
      "__________________________________________________________________________________________________\n",
      "flatten_6 (Flatten)             (None, 200)          0           embedding_9[0][0]                \n",
      "__________________________________________________________________________________________________\n",
      "flatten_7 (Flatten)             (None, 1)            0           embedding_10[0][0]               \n",
      "__________________________________________________________________________________________________\n",
      "flatten_8 (Flatten)             (None, 1)            0           embedding_11[0][0]               \n",
      "__________________________________________________________________________________________________\n",
      "flatten_9 (Flatten)             (None, 3)            0           embedding_12[0][0]               \n",
      "__________________________________________________________________________________________________\n",
      "concatenate_1 (Concatenate)     (None, 405)          0           flatten_5[0][0]                  \n",
      "                                                                 flatten_6[0][0]                  \n",
      "                                                                 flatten_7[0][0]                  \n",
      "                                                                 flatten_8[0][0]                  \n",
      "                                                                 flatten_9[0][0]                  \n",
      "__________________________________________________________________________________________________\n",
      "dense_3 (Dense)                 (None, 2048)         831488      concatenate_1[0][0]              \n",
      "__________________________________________________________________________________________________\n",
      "activation_2 (Activation)       (None, 2048)         0           dense_3[0][0]                    \n",
      "__________________________________________________________________________________________________\n",
      "dense_4 (Dense)                 (None, 256)          524544      activation_2[0][0]               \n",
      "__________________________________________________________________________________________________\n",
      "activation_3 (Activation)       (None, 256)          0           dense_4[0][0]                    \n",
      "__________________________________________________________________________________________________\n",
      "dense_5 (Dense)                 (None, 1)            257         activation_3[0][0]               \n",
      "==================================================================================================\n",
      "Total params: 1,884,379\n",
      "Trainable params: 1,884,379\n",
      "Non-trainable params: 0\n",
      "__________________________________________________________________________________________________\n"
     ]
    }
   ],
   "source": [
    "model.summary()"
   ]
  },
  {
   "cell_type": "markdown",
   "metadata": {},
   "source": [
    "### Training"
   ]
  },
  {
   "cell_type": "code",
   "execution_count": null,
   "metadata": {},
   "outputs": [],
   "source": [
    "result = model.fit(\n",
    "  x=[ratings_train.user_id.values, ratings_train.movie_id.values, train_occ.values],\n",
    "  y=ratings_train.rating.values - mu,\n",
    "  epochs=65,\n",
    "  batch_size=512,\n",
    "  validation_data=(\n",
    "    [ratings_test.user_id.values, ratings_test.movie_id.values, test_occ.values],\n",
    "    ratings_test.rating.values - mu\n",
    "  )\n",
    ")"
   ]
  }
 ],
 "metadata": {
  "kernelspec": {
   "display_name": "Python 3",
   "language": "python",
   "name": "python3"
  },
  "language_info": {
   "codemirror_mode": {
    "name": "ipython",
    "version": 3
   },
   "file_extension": ".py",
   "mimetype": "text/x-python",
   "name": "python",
   "nbconvert_exporter": "python",
   "pygments_lexer": "ipython3",
   "version": "3.8.3"
  }
 },
 "nbformat": 4,
 "nbformat_minor": 4
}
